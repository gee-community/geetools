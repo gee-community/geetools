{
 "cells": [
  {
   "cell_type": "markdown",
   "metadata": {},
   "source": [
    "# Object-oriented asset file system"
   ]
  },
  {
   "cell_type": "code",
   "execution_count": null,
   "metadata": {
    "tags": [
     "remove-cell"
    ]
   },
   "outputs": [],
   "source": [
    "import ee, geetools, os, re, httplib2\n",
    "\n",
    "if \"EARTHENGINE_SERVICE_ACCOUNT\" in os.environ:\n",
    "    private_key = os.environ[\"EARTHENGINE_SERVICE_ACCOUNT\"]\n",
    "    private_key = private_key[1:-1] if re.compile(r\"^'[^']*'$\").match(private_key) else private_key\n",
    "    ee.Initialize.geetools.from_service_account(private_key)\n",
    "\n",
    "elif \"EARTHENGINE_PROJECT\" in os.environ:\n",
    "    ee.Initialize(project=os.environ[\"EARTHENGINE_PROJECT\"], http_transport=httplib2.Http())\n",
    "\n",
    "else:\n",
    "    raise ValueError(\"EARTHENGINE_SERVICE_ACCOUNT or EARTHENGINE_PROJECT environment variable is missing\")"
   ]
  },
  {
   "cell_type": "markdown",
   "metadata": {},
   "source": [
    "[![github](https://img.shields.io/badge/-see%20sources-white?logo=github&labelColor=555)](https://github.com/gee-community/geetools/blob/main/docs/usage/asset.ipynb)\n",
    "[![colab](https://img.shields.io/badge/-open%20in%20colab-blue?logo=googlecolab&labelColor=555)](https://colab.research.google.com/github/gee-community/geetools/blob/main/docs/usage/asset.ipynb)"
   ]
  },
  {
   "cell_type": "markdown",
   "metadata": {},
   "source": [
    "## Set up environment\n",
    "\n",
    "Install all the required libs if necessary and perform the import statements upstream."
   ]
  },
  {
   "cell_type": "code",
   "execution_count": null,
   "metadata": {},
   "outputs": [],
   "source": [
    "# uncomment if installation of libs is necessary\n",
    "# !pip install earthengine-api geetools"
   ]
  },
  {
   "cell_type": "code",
   "execution_count": null,
   "metadata": {},
   "outputs": [],
   "source": [
    "import ee\n",
    "import geetools #noqa: F401"
   ]
  },
  {
   "cell_type": "code",
   "execution_count": null,
   "metadata": {},
   "outputs": [],
   "source": [
    "# uncomment if authetication to GEE is needed\n",
    "# ee.Authenticate()"
   ]
  },
  {
   "cell_type": "code",
   "execution_count": null,
   "metadata": {},
   "outputs": [],
   "source": [
    "# uncomment if initialization is required\n",
    "# ee.Initialize()"
   ]
  },
  {
   "cell_type": "markdown",
   "metadata": {},
   "source": [
    "## The `Asset` object\n",
    "\n",
    "In Google Earth Engine API, users are working with Assets. An asset is a filelike object that englobes a wide variety of types: IMAGE, IMAGE_COLLECTION, FOLDER, TABLE, FEATURE_COLLECTION, etc.\n",
    "\n",
    "They are identified by a unique ID, which is a string that looks like: `projects/username/assets/foo`. Using the vanila Earthengine API, They can be modified using the `ee.data` module. This module has been proven complicated when dealing with basic file manipulation operation such as listing, moving, copying, etc.\n",
    "\n",
    "`geetools` provides a simple way to manage assets as an object-oriented filesystem paths using the `Asset` object. This object is a subclass of the `pathlib.Path` object, which is a powerful way to manage file paths in Python. Most of the methods and properties are overwritten to work with the Google Earth Engine context.\n",
    "\n",
    "`ee.Asset` objects implement the os.PathLike interface, allowing them to be used anywhere the interface is accepted."
   ]
  },
  {
   "cell_type": "markdown",
   "metadata": {},
   "source": [
    "## Basic use\n",
    "\n",
    "Importing the main class:"
   ]
  },
  {
   "cell_type": "code",
   "execution_count": null,
   "metadata": {},
   "outputs": [],
   "source": [
    "import ee, geetools"
   ]
  },
  {
   "cell_type": "markdown",
   "metadata": {},
   "source": [
    "### Create asset objects \n",
    "\n",
    "The Asset objects etend the pathlib.Path object and thus behave exactly the same when dealing with constructor. THe only differnece is that asset path only supports posix-like file separator: `/`."
   ]
  },
  {
   "cell_type": "code",
   "execution_count": null,
   "metadata": {},
   "outputs": [],
   "source": [
    "ee.Asset(\"projects/ee-geetools/assets/documentation/image1\")"
   ]
  },
  {
   "cell_type": "markdown",
   "metadata": {},
   "source": [
    "Each element of pathsegments can be either a string representing a path segment, or an object implementing the os.PathLike interface where the __fspath__() method returns a string, such as another path object."
   ]
  },
  {
   "cell_type": "code",
   "execution_count": null,
   "metadata": {},
   "outputs": [],
   "source": [
    "ee.Asset(\"projects\", \"ee-geetools\", \"assets\", \"documentation\", \"image1\")"
   ]
  },
  {
   "cell_type": "code",
   "execution_count": null,
   "metadata": {},
   "outputs": [],
   "source": [
    "ee.Asset(\"projects/ee-geetools/assets/documentation\") / \"image1\""
   ]
  },
  {
   "cell_type": "code",
   "execution_count": null,
   "metadata": {},
   "outputs": [],
   "source": [
    "ee.Asset(\"projects/ee-geetools/assets/documentation\").joinpath(\"image1\")"
   ]
  },
  {
   "cell_type": "markdown",
   "metadata": {},
   "source": [
    "### Listing subdirectories"
   ]
  },
  {
   "cell_type": "code",
   "execution_count": null,
   "metadata": {},
   "outputs": [],
   "source": [
    "# a public folder created for this docuemntation\n",
    "folder = ee.Asset(\"projects/ee-geetools/assets/documentation\")\n",
    "\n",
    "# list all its direct subdirectories\n",
    "[a for a in folder.iterdir() if a.is_folder()]"
   ]
  },
  {
   "cell_type": "markdown",
   "metadata": {},
   "source": [
    "```{api}\n",
    "- {docstring}`ee.Asset.iterdir`\n",
    "- {{docstring}`ee.Asset.is_folder`\n",
    "```"
   ]
  },
  {
   "cell_type": "markdown",
   "metadata": {},
   "source": [
    "### Listing Image in this folder"
   ]
  },
  {
   "cell_type": "code",
   "execution_count": null,
   "metadata": {},
   "outputs": [],
   "source": [
    "[a for a in folder.iterdir() if a.is_image()]"
   ]
  },
  {
   "cell_type": "code",
   "execution_count": null,
   "metadata": {},
   "outputs": [],
   "source": [
    "[a for a in folder.glob(\"**/image*\")]"
   ]
  },
  {
   "cell_type": "markdown",
   "metadata": {},
   "source": [
    "```{api}\n",
    "- {docstring}`ee.Asset.iterdir`\n",
    "- {docstring}`ee.Asset.glob`\n",
    "- {docstring}`ee.Asset.is_image`\n",
    "```"
   ]
  },
  {
   "cell_type": "markdown",
   "metadata": {},
   "source": [
    "### Querying asset properties"
   ]
  },
  {
   "cell_type": "code",
   "execution_count": null,
   "metadata": {},
   "outputs": [],
   "source": [
    "folder.exists()"
   ]
  },
  {
   "cell_type": "code",
   "execution_count": null,
   "metadata": {},
   "outputs": [],
   "source": [
    "fakeImage = folder / \"image6\"\n",
    "fakeImage.exists()"
   ]
  },
  {
   "cell_type": "markdown",
   "metadata": {},
   "source": [
    "```{api}\n",
    "- {docstring}`ee.Asset.exists`\n",
    "```"
   ]
  },
  {
   "cell_type": "markdown",
   "metadata": {},
   "source": [
    "## General properties\n",
    "\n",
    "Paths are immutable and hashable. Paths of a same flavour are comparable and orderable. These properties respect the flavour’s case-folding semantics:"
   ]
  },
  {
   "cell_type": "code",
   "execution_count": null,
   "metadata": {},
   "outputs": [],
   "source": [
    "folder = ee.Asset(\"projects/ee-geetools/assets/documentation\")"
   ]
  },
  {
   "cell_type": "code",
   "execution_count": null,
   "metadata": {},
   "outputs": [],
   "source": [
    "folder == ee.Asset(\"projects/ee-geetools/assets/DOCUMENTATION\")"
   ]
  },
  {
   "cell_type": "code",
   "execution_count": null,
   "metadata": {},
   "outputs": [],
   "source": [
    "folder in { ee.Asset(\"projects/ee-geetools/assets/documentation\")}"
   ]
  },
  {
   "cell_type": "markdown",
   "metadata": {},
   "source": [
    "The slash operator helps create child asset, like `os.path.join()`. If the argument is an absolute asset, the previous path is ignored."
   ]
  },
  {
   "cell_type": "code",
   "execution_count": null,
   "metadata": {},
   "outputs": [],
   "source": [
    "ee.Asset(\"projects/ee-geetools/assets/documentation\") / \"image1\""
   ]
  },
  {
   "cell_type": "markdown",
   "metadata": {},
   "source": [
    "An asset object can be used anywhere an object implementing `os.PathLike` is accepted."
   ]
  },
  {
   "cell_type": "code",
   "execution_count": null,
   "metadata": {},
   "outputs": [],
   "source": [
    "import os\n",
    "\n",
    "a = ee.Asset(\"projects/ee-geetools/assets/documentation\")\n",
    "os.fspath(a)"
   ]
  },
  {
   "cell_type": "markdown",
   "metadata": {},
   "source": [
    "The string representation of an asset is the asset id itself, which you can pass to any function taking an asset id as a string:"
   ]
  },
  {
   "cell_type": "code",
   "execution_count": null,
   "metadata": {},
   "outputs": [],
   "source": [
    "a = ee.Asset(\"projects/ee-geetools/assets/documentation/image1\")\n",
    "str(a)"
   ]
  },
  {
   "cell_type": "markdown",
   "metadata": {},
   "source": [
    "### Accessing individual parts\n",
    "\n",
    "To access the individual “parts” (components) of a path, use the following property:"
   ]
  },
  {
   "cell_type": "code",
   "execution_count": null,
   "metadata": {},
   "outputs": [],
   "source": [
    "a = ee.Asset(\"projects/ee-geetools/assets/documentation/image1\")\n",
    "a.parts"
   ]
  },
  {
   "cell_type": "markdown",
   "metadata": {},
   "source": [
    "```{api}\n",
    "- {docstring}`ee.Asset.parts`\n",
    "```"
   ]
  },
  {
   "cell_type": "markdown",
   "metadata": {},
   "source": [
    "### access parent container\n",
    "\n",
    "Asset parent containers can be access either by the `parent` property or the `parents` property. Note This is a purely lexical operation and the parent is not checked to exist.\n",
    "\n",
    "```{api}\n",
    "- {docstring}`ee.Asset.parent`\n",
    "- {docstring}`ee.Asset.parents`\n",
    "```"
   ]
  },
  {
   "cell_type": "code",
   "execution_count": null,
   "metadata": {},
   "outputs": [],
   "source": [
    "a = ee.Asset(\"projects/ee-geetools/assets/documentation/subfolder1/image1\")\n",
    "a.parent"
   ]
  },
  {
   "cell_type": "code",
   "execution_count": null,
   "metadata": {},
   "outputs": [],
   "source": [
    "a = ee.Asset(\"projects/ee-geetools/assets/documentation/subfolder1/image1\")\n",
    "a.parents"
   ]
  },
  {
   "cell_type": "markdown",
   "metadata": {},
   "source": [
    "### Name of the asset\n",
    "\n",
    "A string representing the final path component can be used to get the name of the asset.add\n",
    "\n",
    "```{api}\n",
    "- {docstring}`ee.Asset.name`\n",
    "```"
   ]
  },
  {
   "cell_type": "code",
   "execution_count": null,
   "metadata": {},
   "outputs": [],
   "source": [
    "a = ee.Asset(\"projects/ee-geetools/assets/documentation/subfolder1/image1\")\n",
    "a.name"
   ]
  },
  {
   "cell_type": "markdown",
   "metadata": {},
   "source": [
    "## General Methods\n",
    "\n",
    "Pure paths provide the following methods."
   ]
  },
  {
   "cell_type": "markdown",
   "metadata": {},
   "source": [
    "### evaluate relation between assets\n",
    "\n",
    "It's possible to check if files are related between one another using the following methods:\n",
    "\n",
    "```{api}\n",
    "- {docstring}`ee.Asset.is_relative_to`"
   ]
  },
  {
   "cell_type": "code",
   "execution_count": null,
   "metadata": {},
   "outputs": [],
   "source": [
    "a = ee.Asset(\"projects/ee-geetools/assets/documentation/subfolder1/image1\")\n",
    "b = ee.Asset(\"projects/ee-geetools/assets/documentation\")\n",
    "a.is_relative_to(b)"
   ]
  },
  {
   "cell_type": "markdown",
   "metadata": {},
   "source": [
    "### create a siblings\n",
    "\n",
    "One can create a siblings asset in the same container by using the `with_name()` method:\n",
    "\n",
    "```{api}    \n",
    "- {docstring}`ee.Asset.with_name`\n",
    "```"
   ]
  },
  {
   "cell_type": "code",
   "execution_count": null,
   "metadata": {},
   "outputs": [],
   "source": [
    "a = ee.Asset(\"projects/ee-geetools/assets/documentation/subfolder1/image1\")\n",
    "a.with_name(\"image2\")"
   ]
  },
  {
   "cell_type": "markdown",
   "metadata": {},
   "source": [
    "### resolve unix like symbols\n",
    "\n",
    "One can use some unix-like descriptors in it's Asset constructor parameters. If so before using the Asset object, it is necessary to resolve these symbols. The method `expanduser` does that.\n",
    "\n",
    "```{api}\n",
    "- {py:meth}`expanduser <ee.Asset.Asset.expanduser>`: {docstring}`ee.Asset.expanduser`\n",
    "```"
   ]
  },
  {
   "cell_type": "code",
   "execution_count": null,
   "metadata": {},
   "outputs": [],
   "source": [
    "a = ee.Asset(\"~/documentation/subfolder1/image1\")\n",
    "a.expanduser()"
   ]
  },
  {
   "cell_type": "markdown",
   "metadata": {},
   "source": [
    "### check existence\n",
    "\n",
    "One can check if an asset exists using the `exists` method:\n",
    "\n",
    "```{api}\n",
    "- {py:meth}`exists <ee.Asset.Asset.exists>`: {docstring}`ee.Asset.exists`\n",
    "```"
   ]
  },
  {
   "cell_type": "code",
   "execution_count": null,
   "metadata": {},
   "outputs": [],
   "source": [
    "a = ee.Asset(\"projects/ee-geetools/assets/documentation/subfolder1/image1\")\n",
    "a.exists()"
   ]
  },
  {
   "cell_type": "code",
   "execution_count": null,
   "metadata": {},
   "outputs": [],
   "source": [
    "a = ee.Asset(\"projects/ee-geetools/assets/documentation/subfolder1/image10\")\n",
    "a.exists()"
   ]
  },
  {
   "cell_type": "markdown",
   "metadata": {},
   "source": [
    "### Evaluate asset type\n",
    "\n",
    "As Earth Engine is not using any file extention to differentiate the asset type, one can use the `is_type` method with any of the following types: `IMAGE`, `IMAGE_COLLECTION`, `FOLDER`, `TABLE`, `FEATURE_COLLECTION`, `UNKNOWN`.\n",
    "\n",
    "```{api}\n",
    "- {py:meth}`is_type <ee.Asset.Asset.is_type>`: {docstring}`ee.Asset.is_type`\n",
    "```"
   ]
  },
  {
   "cell_type": "code",
   "execution_count": null,
   "metadata": {},
   "outputs": [],
   "source": [
    "a = ee.Asset(\"projects/ee-geetools/assets/documentation/subfolder1/image1\")\n",
    "a.is_type(\"IMAGE\")"
   ]
  },
  {
   "cell_type": "markdown",
   "metadata": {},
   "source": [
    "All type checks are available in dedicated wrapped methods like `is_image`, `is_folder`, `is_table` ...etc."
   ]
  },
  {
   "cell_type": "code",
   "execution_count": null,
   "metadata": {},
   "outputs": [],
   "source": [
    "a.is_image()"
   ]
  },
  {
   "cell_type": "markdown",
   "metadata": {},
   "source": [
    "Many other useful methods are available and are described in the {py:class}`API documentation <ee.Asset.Asset>`."
   ]
  }
 ],
 "metadata": {
  "kernelspec": {
   "display_name": "geetools",
   "language": "python",
   "name": "python3"
  },
  "language_info": {
   "codemirror_mode": {
    "name": "ipython",
    "version": 3
   },
   "file_extension": ".py",
   "mimetype": "text/x-python",
   "name": "python",
   "nbconvert_exporter": "python",
   "pygments_lexer": "ipython3",
   "version": "3.11.9"
  }
 },
 "nbformat": 4,
 "nbformat_minor": 2
}
