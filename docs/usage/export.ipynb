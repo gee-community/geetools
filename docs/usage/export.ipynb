{
 "cells": [
  {
   "cell_type": "markdown",
   "metadata": {},
   "source": [
    "# Exporting ImageCollections\n",
    "\n",
    "Earth Engine provides numbers of ways to export `ee.Image` as explained in their [documentation](https://developers.google.com/earth-engine/guides/image_export). `geetools`provides an extention to the `ee.Export` class to export `ee.ImageCollection` as well. This is useful when you have a collection of images and you want to export them all at once.\n",
    "\n",
    "As the vanilla Earth Engine methods were returning Task objects, these method will return lists of Task objects. This ensures that Once the task are launched they can be fully monitored outside from your initial script."
   ]
  },
  {
   "cell_type": "code",
   "execution_count": null,
   "metadata": {
    "tags": [
     "remove-cell"
    ]
   },
   "outputs": [],
   "source": [
    "import ee, geetools, os, re, httplib2\n",
    "\n",
    "if \"EARTHENGINE_SERVICE_ACCOUNT\" in os.environ:\n",
    "    private_key = os.environ[\"EARTHENGINE_SERVICE_ACCOUNT\"]\n",
    "    private_key = private_key[1:-1] if re.compile(r\"^'[^']*'$\").match(private_key) else private_key\n",
    "    ee.Initialize.geetools.from_service_account(private_key)\n",
    "\n",
    "elif \"EARTHENGINE_PROJECT\" in os.environ:\n",
    "    ee.Initialize(project=os.environ[\"EARTHENGINE_PROJECT\"], http_transport=httplib2.Http())\n",
    "\n",
    "else:\n",
    "    raise ValueError(\"EARTHENGINE_SERVICE_ACCOUNT or EARTHENGINE_PROJECT environment variable is missing\")"
   ]
  },
  {
   "cell_type": "markdown",
   "metadata": {},
   "source": [
    "[![github](https://img.shields.io/badge/-see%20sources-white?logo=github&labelColor=555)](https://github.com/gee-community/geetools/blob/main/docs/usage/export.ipynb)\n",
    "[![colab](https://img.shields.io/badge/-open%20in%20colab-blue?logo=googlecolab&labelColor=555)](https://colab.research.google.com/github/gee-community/geetools/blob/main/docs/usage/export.ipynb)"
   ]
  },
  {
   "cell_type": "markdown",
   "metadata": {},
   "source": [
    "## Example Set up \n",
    "\n",
    "Start by defining the image data that will be exported."
   ]
  },
  {
   "cell_type": "code",
   "execution_count": null,
   "metadata": {},
   "outputs": [],
   "source": [
    "import ee, geetools"
   ]
  },
  {
   "cell_type": "code",
   "execution_count": null,
   "metadata": {},
   "outputs": [],
   "source": [
    "# Load a landsat image and select three bands over the whole mont of january 2023\n",
    "landsat = (\n",
    "    ee.ImageCollection(\"LANDSAT/LC08/C02/T1_TOA\")\n",
    "    .select(['B4', 'B3', 'B2'])\n",
    "    .filterDate('2023-01-01', '2023-01-31')\n",
    ")\n",
    "\n",
    "# Create a geometry representing an export region.\n",
    "geometry = ee.Geometry.Rectangle([116.2621, 39.8412, 116.4849, 40.01236])"
   ]
  },
  {
   "cell_type": "markdown",
   "metadata": {},
   "source": [
    "## to Drive\n",
    "\n",
    "To export an imageCollection to your Drive account, use `ee.batch.Export.geetools.imagecollection.toDrive()`. For example, to export portions of a Landsat collection, define a region to export, then call Export:"
   ]
  },
  {
   "cell_type": "markdown",
   "metadata": {},
   "source": [
    "```python \n",
    "# Export the image to Cloud Storage.\n",
    "ee.batch.Export.geetools.imagecollection.toDrive(\n",
    "  imagecollection = landsat,\n",
    "  index_property = \"system:id\",\n",
    "  description = 'imageCollectionToDriveExample',\n",
    "  scale = 30,\n",
    "  region = geometry,\n",
    "  folder = 'geetools_example',\n",
    ")\n",
    "```"
   ]
  },
  {
   "cell_type": "markdown",
   "metadata": {},
   "source": [
    "When this code is run, a list of export task will be created you will need to `start` them to start the export computation in the server."
   ]
  },
  {
   "cell_type": "markdown",
   "metadata": {},
   "source": [
    "## to Cloud Storage\n",
    "\n",
    "To export an ImageCollection to a Google Cloud Storage bucket, use `ee.batch.Export.geetools.imagecollection.toCloudStorage()`. To export the Landsat image in the previous example to Cloud Storage instead of Drive, use:"
   ]
  },
  {
   "cell_type": "markdown",
   "metadata": {},
   "source": [
    "```python \n",
    "# Export the image to Cloud Storage.\n",
    "ee.batch.Export.image.toCloudStorage(\n",
    "  imagecollection =  landsat,\n",
    "  index_property = \"system:id\",\n",
    "  description =  'imageToCloudExample',\n",
    "  bucket =  'your-bucket-name',\n",
    "  scale =  30,\n",
    "  region = geometry\n",
    ")\n",
    "```"
   ]
  },
  {
   "cell_type": "markdown",
   "metadata": {},
   "source": [
    "When this code is run, a list of export task will be created you will need to `start` them to start the export computation in the server."
   ]
  },
  {
   "cell_type": "markdown",
   "metadata": {},
   "source": [
    "## To Asset\n",
    "\n",
    "To export an ImageCollection to an Earth Engine asset, use `ee.batch.Export.geetools.imagecollection.toAsset()`. To export the Landsat image in the previous example to an asset, use:\n",
    "\n",
    "When this code is run, a list of export task will be created you will need to `start` them to start the export computation in the server."
   ]
  },
  {
   "cell_type": "markdown",
   "metadata": {},
   "source": [
    "```python\n",
    "# Start the export process.\n",
    "ee.batch.Export.geetools.imagecollection.toAsset(\n",
    "    imagecollection = landsat,\n",
    "    index_property = \"system:id\",\n",
    "    assetId = 'projects/username/ladnsat_collection',\n",
    "    scale = 30,\n",
    "    region = geometry,\n",
    "    maxPixels = 1e13,\n",
    "    pyramidingPolicy = {\n",
    "        'b4': 'mean',\n",
    "        'b3': 'mean',\n",
    "        'b2': 'mean'\n",
    "    }\n",
    ")\n",
    "```"
   ]
  },
  {
   "cell_type": "markdown",
   "metadata": {},
   "source": [
    "For all function please refer to offcial documentation for complete list of parameters of the `ee.batch.Export.image` methods."
   ]
  }
 ],
 "metadata": {
  "language_info": {
   "name": "python"
  }
 },
 "nbformat": 4,
 "nbformat_minor": 2
}
