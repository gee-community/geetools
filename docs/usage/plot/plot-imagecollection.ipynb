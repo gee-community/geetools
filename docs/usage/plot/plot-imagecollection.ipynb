{
 "cells": [
  {
   "cell_type": "markdown",
   "metadata": {},
   "source": [
    "# Plot ImageCollection\n",
    "\n",
    "The `geetools` extention contains a set of functions for rendering charts from the results of spatiotemporal reduction of images within an `ee.ImageCollection`. The choice of function dictates the arrangement of data in the chart, i.e., what defines x- and y-axis values and what defines the series. Use the following function descriptions and examples to determine the best function for your purpose."
   ]
  },
  {
   "cell_type": "code",
   "execution_count": null,
   "metadata": {
    "tags": [
     "remove-cell"
    ]
   },
   "outputs": [],
   "source": [
    "import ee, geetools, os, re, httplib2\n",
    "\n",
    "if \"EARTHENGINE_SERVICE_ACCOUNT\" in os.environ:\n",
    "    private_key = os.environ[\"EARTHENGINE_SERVICE_ACCOUNT\"]\n",
    "    private_key = private_key[1:-1] if re.compile(r\"^'[^']*'$\").match(private_key) else private_key\n",
    "    ee.Initialize.geetools.from_service_account(private_key)\n",
    "\n",
    "elif \"EARTHENGINE_PROJECT\" in os.environ:\n",
    "    ee.Initialize(project=os.environ[\"EARTHENGINE_PROJECT\"], http_transport=httplib2.Http())\n",
    "\n",
    "else:\n",
    "    raise ValueError(\"EARTHENGINE_SERVICE_ACCOUNT or EARTHENGINE_PROJECT environment variable is missing\")"
   ]
  },
  {
   "cell_type": "markdown",
   "metadata": {},
   "source": [
    "[![github](https://img.shields.io/badge/-see%20sources-white?logo=github&labelColor=555)](https://github.com/gee-community/geetools/blob/main/docs/usage/plot/plot-imagecollection.ipynb)\n",
    "[![colab](https://img.shields.io/badge/-open%20in%20colab-blue?logo=googlecolab&labelColor=555)](https://colab.research.google.com/github/gee-community/geetools/blob/main/docs/usage/plot/plot-imagecollection.ipynb)"
   ]
  },
  {
   "cell_type": "markdown",
   "metadata": {},
   "source": [
    "## Set up environment\n",
    "\n",
    "Install all the required libs if necessary and perform the import satements upstream."
   ]
  },
  {
   "cell_type": "code",
   "execution_count": null,
   "metadata": {},
   "outputs": [],
   "source": [
    "# uncomment if installation of libs is necessary\n",
    "# !pip install earthengine-api geetools"
   ]
  },
  {
   "cell_type": "code",
   "execution_count": null,
   "metadata": {},
   "outputs": [],
   "source": [
    "from matplotlib import pyplot as plt\n",
    "\n",
    "import ee\n",
    "import geetools #noqa: F401"
   ]
  },
  {
   "cell_type": "code",
   "execution_count": null,
   "metadata": {},
   "outputs": [],
   "source": [
    "# uncomment if authetication to GEE is needed\n",
    "# ee.Authenticate()\n",
    "# ee.Intialize(project=\"<your_project>\")"
   ]
  },
  {
   "cell_type": "markdown",
   "metadata": {},
   "source": [
    "## Example data \n",
    "\n",
    "The following examples rely on a `ee.FeatureCollection` composed of three ecoregion features that define regions by which to reduce image data. The ImageCollection data loads the modis vegetation indicies and subset the 2010 2020 decade of images."
   ]
  },
  {
   "cell_type": "code",
   "execution_count": null,
   "metadata": {},
   "outputs": [],
   "source": [
    "## Import the example feature collection and drop the data property.\n",
    "ecoregions = (\n",
    "    ee.FeatureCollection(\"projects/google/charts_feature_example\")\n",
    "    .select([\"label\", \"value\", \"warm\"])\n",
    ")\n",
    "\n",
    "\n",
    "## Load MODIS vegetation indices data and subset a decade of images.\n",
    "vegIndices = (\n",
    "    ee.ImageCollection(\"MODIS/061/MOD13A1\")\n",
    "    .filter(ee.Filter.date(\"2010-01-01\", \"2020-01-01\"))\n",
    "    .select([\"NDVI\", \"EVI\"])\n",
    ")"
   ]
  },
  {
   "cell_type": "markdown",
   "metadata": {},
   "source": [
    "## Plot dates\n",
    "\n",
    "The `plot_dates*` methods will plot the values of the image collection using their dates as x-axis values."
   ]
  },
  {
   "cell_type": "markdown",
   "metadata": {},
   "source": [
    "### series by bands \n",
    "\n",
    "Image date is plotted along the x-axis according to the `dateProperty` property. Series are defined by image bands. Y-axis values are the reduction of images, by date, for a single region."
   ]
  },
  {
   "cell_type": "code",
   "execution_count": null,
   "metadata": {
    "tags": [
     "remove-input"
    ]
   },
   "outputs": [],
   "source": [
    "fig, ax = plt.subplots(figsize=(10, 4))\n",
    "\n",
    "# Sample data (replace these with your actual data)\n",
    "dates = [\"date1\", \"date2\", \"date3\"]\n",
    "b1 = [1, 2, 1]\n",
    "b2 = [2, 3, 2]\n",
    "b3 = [3, 4, 3]\n",
    "\n",
    "# Create the plot\n",
    "ax.plot(dates, b1, label=\"b1\", color=\"#1d6b99\")\n",
    "ax.plot(dates, b2, label=\"b2\", color=\"#cf513e\")\n",
    "ax.plot(dates, b3, label=\"b3\", color=\"#f0af07\")\n",
    "\n",
    "# Add titles and labels\n",
    "ax.set_title('Single-region spatial reduction')\n",
    "ax.set_xlabel('Image date')\n",
    "ax.set_ylabel('Spatial reduction')\n",
    "\n",
    "# Add a legend\n",
    "ax.legend(loc='upper center', bbox_to_anchor=(0.85, 1.15), ncol=3, title='Band names')\n",
    "\n",
    "# set the grid display\n",
    "ax.grid(axis=\"y\")\n",
    "ax.set_ylim(0, 5)\n",
    "ax.set_axisbelow(True)\n",
    "ax.spines[\"top\"].set_visible(False)\n",
    "ax.spines[\"right\"].set_visible(False)\n",
    "\n",
    "# Show the plot\n",
    "plt.tight_layout()\n",
    "plt.show()"
   ]
  },
  {
   "cell_type": "markdown",
   "metadata": {},
   "source": [
    "Use `plot_series_by_bands` to display an image time series for a given region; each image band is presented as a unique series. It is useful for comparing the time series of individual image bands. Here, a MODIS image collection with bands representing NDVI and EVI vegetation indices are plotted. The date of every image observation is included along the x-axis, while the mean reduction of pixels intersecting a forest ecoregion defines the y-axis."
   ]
  },
  {
   "cell_type": "code",
   "execution_count": null,
   "metadata": {},
   "outputs": [],
   "source": [
    "fig, ax = plt.subplots(figsize=(10, 4))\n",
    "region = ecoregions.filter(ee.Filter.eq(\"label\", \"Forest\"))\n",
    "vegIndices.geetools.plot_dates_by_bands(\n",
    "    region = region.geometry(),\n",
    "    reducer = \"mean\",\n",
    "    scale = 500,\n",
    "    bands = [\"NDVI\", \"EVI\"],\n",
    "    ax = ax,\n",
    "    dateProperty = \"system:time_start\",\n",
    ")\n",
    "\n",
    "# once created the axes can be modified as needed using pure matplotlib functions\n",
    "ax.set_ylabel(\"Vegetation indices (x1e4)\")\n",
    "ax.set_title(\"Average Vegetation index Values by date in the Forest ecoregion\")\n",
    "\n",
    "plt.show()"
   ]
  },
  {
   "cell_type": "markdown",
   "metadata": {},
   "source": [
    "### Plot series by region\n",
    "\n",
    "Image date is plotted along the x-axis according to the `dateProperty` property. Series are defined by regions. Y-axis values are the reduction of images, by date, for a single image band."
   ]
  },
  {
   "cell_type": "code",
   "execution_count": null,
   "metadata": {
    "tags": [
     "remove-input"
    ]
   },
   "outputs": [],
   "source": [
    "fig, ax = plt.subplots(figsize=(10, 4))\n",
    "\n",
    "# Sample data (replace these with your actual data)\n",
    "dates = [\"date1\", \"date2\", \"date3\"]\n",
    "b1 = [1, 2, 1]\n",
    "b2 = [2, 3, 2]\n",
    "b3 = [3, 4, 3]\n",
    "\n",
    "# Create the plot\n",
    "ax.plot(dates, b1, label=\"r1\", color=\"#1d6b99\")\n",
    "ax.plot(dates, b2, label=\"r2\", color=\"#cf513e\")\n",
    "ax.plot(dates, b3, label=\"r3\", color=\"#f0af07\")\n",
    "\n",
    "# Add titles and labels\n",
    "ax.set_title(\"Single-band spatial reduction\")\n",
    "ax.set_xlabel(\"Image date\")\n",
    "ax.set_ylabel(\"Spatial reduction\")\n",
    "\n",
    "# Add a legend\n",
    "ax.legend(loc='upper center', bbox_to_anchor=(0.85, 1.15), ncol=3, title='Regions')\n",
    "\n",
    "# set the grid display\n",
    "ax.grid(axis=\"y\")\n",
    "ax.set_ylim(0, 5)\n",
    "ax.set_axisbelow(True)\n",
    "ax.spines[\"top\"].set_visible(False)\n",
    "ax.spines[\"right\"].set_visible(False)\n",
    "\n",
    "# Show the plot\n",
    "plt.tight_layout()\n",
    "plt.show()"
   ]
  },
  {
   "cell_type": "markdown",
   "metadata": {},
   "source": [
    "Use `plot_dates_by_regions` to display a single image band time series for multiple regions; each region is presented as a unique series. It is useful for comparing the time series of a single band among several regions. Here, a MODIS image collection representing an NDVI time series is plotted for three ecoregions. The date of every image observation is included along the x-axis, while mean reduction of pixels intersecting forest, desert, and grasslands ecoregions define y-axis series."
   ]
  },
  {
   "cell_type": "code",
   "execution_count": null,
   "metadata": {},
   "outputs": [],
   "source": [
    "fig, ax = plt.subplots(figsize=(10, 4))\n",
    "region = ecoregions.filter(ee.Filter.eq(\"label\", \"Forest\"))\n",
    "vegIndices.geetools.plot_dates_by_regions(\n",
    "    band = \"NDVI\",\n",
    "    regions = ecoregions,\n",
    "    label = \"label\",\n",
    "    reducer = \"mean\",\n",
    "    scale = 500,\n",
    "    ax = ax,\n",
    "    dateProperty = \"system:time_start\",\n",
    "    colors = ['#f0af07', '#0f8755', '#76b349']\n",
    ")\n",
    "\n",
    "# once created the axes can be modified as needed using pure matplotlib functions\n",
    "ax.set_ylabel(\"Vegetation indices (x1e4)\")\n",
    "ax.set_title(\"Average Vegetation index Values by date in the Forest ecoregion\")\n",
    "\n",
    "plt.show()"
   ]
  },
  {
   "cell_type": "markdown",
   "metadata": {},
   "source": [
    "## PLot DOY\n",
    "\n",
    "DOY stands for day of year. The `plot_doyseries*` methods will plot the values of the image collection using the day of year as x-axis values.\n",
    "\n",
    "Note that `.plot_doyseries*` functions take two reducers: one for region reduction (`regionReducer`) and another for intra-annual coincident day-of-year reduction (`yearReducer`). Examples in the following sections use `ee.Reducer.mean()` as the argument for both of these parameters."
   ]
  },
  {
   "cell_type": "markdown",
   "metadata": {},
   "source": [
    "### Plot DOY by bands \n",
    "\n",
    "Image day-of-year is plotted along the x-axis according to the `dateProperty` property. Series are defined by image bands. Y-axis values are the reduction of image pixels in a given region, grouped by day-of-year."
   ]
  },
  {
   "cell_type": "code",
   "execution_count": null,
   "metadata": {
    "tags": [
     "remove-input"
    ]
   },
   "outputs": [],
   "source": [
    "fig, ax = plt.subplots(figsize=(10, 4))\n",
    "\n",
    "# Sample data (replace these with your actual data)\n",
    "dates = [\"doy1\", \"doy2\", \"doy3\"]\n",
    "b1 = [1, 2, 1]\n",
    "b2 = [2, 3, 2]\n",
    "b3 = [3, 4, 3]\n",
    "\n",
    "# Create the plot\n",
    "ax.plot(dates, b1, label=\"b1\", color=\"#1d6b99\")\n",
    "ax.plot(dates, b2, label=\"b2\", color=\"#cf513e\")\n",
    "ax.plot(dates, b3, label=\"b3\", color=\"#f0af07\")\n",
    "\n",
    "# Add titles and labels\n",
    "ax.set_title(\"Single-region spatiotemporal reduction\")\n",
    "ax.set_xlabel(\"Image date\")\n",
    "ax.set_ylabel(\"Reduced values\")\n",
    "\n",
    "# Add a legend\n",
    "ax.legend(loc='upper center', bbox_to_anchor=(0.85, 1.15), ncol=3, title='Band names')\n",
    "\n",
    "# set the grid display\n",
    "ax.grid(axis=\"y\")\n",
    "ax.set_ylim(0, 5)\n",
    "ax.set_axisbelow(True)\n",
    "ax.spines[\"top\"].set_visible(False)\n",
    "ax.spines[\"right\"].set_visible(False)\n",
    "\n",
    "# Show the plot\n",
    "plt.tight_layout()\n",
    "plt.show()"
   ]
  },
  {
   "cell_type": "markdown",
   "metadata": {},
   "source": [
    "Use `plot_doy_by_bands` to display a day-of-year time series for a given region; each image band is presented as a unique series. It is useful for reducing observations occurring on the same day-of-year, across multiple years, to compare e.g. average annual NDVI and EVI profiles from MODIS, as in this example."
   ]
  },
  {
   "cell_type": "code",
   "execution_count": null,
   "metadata": {},
   "outputs": [],
   "source": [
    "fig, ax = plt.subplots(figsize=(10,4))\n",
    "\n",
    "vegIndices.geetools.plot_doy_by_bands(\n",
    "    region = ecoregions.filter(ee.Filter.eq(\"label\", \"Grassland\")).geometry(),\n",
    "    spatialReducer = \"mean\",\n",
    "    timeReducer = \"mean\",\n",
    "    scale = 500,\n",
    "    bands = [\"NDVI\", \"EVI\"],\n",
    "    ax = ax,\n",
    "    dateProperty = \"system:time_start\",\n",
    "    colors = ['#e37d05', '#1d6b99']\n",
    ")\n",
    "\n",
    "# once created the axes can be modified as needed using pure matplotlib functions\n",
    "ax.set_ylabel(\"Vegetation indices (x1e4)\")\n",
    "ax.set_title(\"Average Vegetation index Values by doy in the Grassland ecoregion\")\n",
    "\n",
    "plt.show()"
   ]
  },
  {
   "cell_type": "markdown",
   "metadata": {},
   "source": [
    "### Plot doy by regions \n",
    "\n",
    "Image day-of-year is plotted along the x-axis according to the `dateProperty` property. Series are defined by regions. Y-axis values are the reduction of image pixels in a given region, grouped by day-of-year, for a selected image band.\n"
   ]
  },
  {
   "cell_type": "code",
   "execution_count": null,
   "metadata": {
    "tags": [
     "remove-input"
    ]
   },
   "outputs": [],
   "source": [
    "fig, ax = plt.subplots(figsize=(10, 4))\n",
    "\n",
    "# Sample data (replace these with your actual data)\n",
    "dates = [\"doy1\", \"doy2\", \"doy3\"]\n",
    "b1 = [1, 2, 1]\n",
    "b2 = [2, 3, 2]\n",
    "b3 = [3, 4, 3]\n",
    "\n",
    "# Create the plot\n",
    "ax.plot(dates, b1, label=\"r1\", color=\"#1d6b99\")\n",
    "ax.plot(dates, b2, label=\"r2\", color=\"#cf513e\")\n",
    "ax.plot(dates, b3, label=\"r3\", color=\"#f0af07\")\n",
    "\n",
    "# Add titles and labels\n",
    "ax.set_title(\"Single-region spatiotemporal reduction\")\n",
    "ax.set_xlabel(\"Image date\")\n",
    "ax.set_ylabel(\"Reduced values\")\n",
    "\n",
    "# Add a legend\n",
    "ax.legend(loc='upper center', bbox_to_anchor=(0.85, 1.15), ncol=3, title='regions')\n",
    "\n",
    "# set the grid display\n",
    "ax.grid(axis=\"y\")\n",
    "ax.set_ylim(0, 5)\n",
    "ax.set_axisbelow(True)\n",
    "ax.spines[\"top\"].set_visible(False)\n",
    "ax.spines[\"right\"].set_visible(False)\n",
    "\n",
    "# Show the plot\n",
    "plt.tight_layout()\n",
    "plt.show()"
   ]
  },
  {
   "cell_type": "markdown",
   "metadata": {},
   "source": [
    "Use `plot_doy_by_regions` to display a single image band day-of-year time series for multiple regions, where each distinct region is presented as a unique series. It is useful for comparing annual single-band time series among regions. For instance, in this example, annual MODIS-derived NDVI profiles for forest, desert, and grassland ecoregions are plotted, providing a convenient comparison of NDVI response by region. Note that intra-annual observations occurring on the same day-of-year are reduced by their mean."
   ]
  },
  {
   "cell_type": "code",
   "execution_count": null,
   "metadata": {},
   "outputs": [],
   "source": [
    "fig, ax = plt.subplots(figsize=(10,4))\n",
    "\n",
    "vegIndices.geetools.plot_doy_by_regions(\n",
    "    regions = ecoregions,\n",
    "    label = \"label\",\n",
    "    spatialReducer = \"mean\",\n",
    "    timeReducer = \"mean\",\n",
    "    scale = 500,\n",
    "    band = \"NDVI\",\n",
    "    ax = ax,\n",
    "    dateProperty = \"system:time_start\",\n",
    "    colors = ['#f0af07', '#0f8755', '#76b349']\n",
    ")\n",
    "\n",
    "# once created the axes can be modified as needed using pure matplotlib functions\n",
    "ax.set_ylabel(\"NDVI (x1e4)\")\n",
    "ax.set_title(\"Average NDVI Values by doy in each ecoregion\")\n",
    "\n",
    "plt.show()"
   ]
  },
  {
   "cell_type": "markdown",
   "metadata": {},
   "source": [
    "### plot doy by year \n",
    "\n",
    "Image day-of-year is plotted along the x-axis according to the `dateProperty` property. Series are defined by years present in the ImageCollection. Y-axis values are the reduction of image pixels in a given region, grouped by day-of-year, for a selected image band."
   ]
  },
  {
   "cell_type": "code",
   "execution_count": null,
   "metadata": {
    "tags": [
     "remove-input"
    ]
   },
   "outputs": [],
   "source": [
    "fig, ax = plt.subplots(figsize=(10, 4))\n",
    "\n",
    "# Sample data (replace these with your actual data)\n",
    "dates = [\"doy1\", \"doy2\", \"doy3\"]\n",
    "b1 = [1, 2, 1]\n",
    "b2 = [2, 3, 2]\n",
    "b3 = [3, 4, 3]\n",
    "\n",
    "# Create the plot\n",
    "ax.plot(dates, b1, label=\"year1\", color=\"#1d6b99\")\n",
    "ax.plot(dates, b2, label=\"year2\", color=\"#cf513e\")\n",
    "ax.plot(dates, b3, label=\"year3\", color=\"#f0af07\")\n",
    "\n",
    "# Add titles and labels\n",
    "ax.set_title(\"Single-region/band spatiotemporal reduction\")\n",
    "ax.set_xlabel(\"Image date\")\n",
    "ax.set_ylabel(\"Reduced values\")\n",
    "\n",
    "# Add a legend\n",
    "ax.legend(loc='upper center', bbox_to_anchor=(0.85, 1.15), ncol=3, title='iage years')\n",
    "\n",
    "# set the grid display\n",
    "ax.grid(axis=\"y\")\n",
    "ax.set_ylim(0, 5)\n",
    "ax.set_axisbelow(True)\n",
    "ax.spines[\"top\"].set_visible(False)\n",
    "ax.spines[\"right\"].set_visible(False)\n",
    "\n",
    "# Show the plot\n",
    "plt.tight_layout()\n",
    "plt.show()"
   ]
  },
  {
   "cell_type": "markdown",
   "metadata": {},
   "source": [
    "Use `plot_doy_by_years` to display a day-of-year time series for a given region and image band, where each distinct year in the image collection is presented as a unique series. It is useful for comparing annual time series among years. For instance, in this example, annual MODIS-derived NDVI profiles for a grassland ecoregion are plotted for years 2012 and 2019, providing convenient year-over-year interpretation."
   ]
  },
  {
   "cell_type": "code",
   "execution_count": null,
   "metadata": {},
   "outputs": [],
   "source": [
    "# reduce the regions to grassland\n",
    "grassland = ecoregions.filter(ee.Filter.eq(\"label\", \"Grassland\"))\n",
    "\n",
    "# for plot speed and lisibility only keep 2 years (2010 and 2020) for the example\n",
    "indices = vegIndices.filter(\n",
    "        ee.Filter.Or(\n",
    "            ee.Filter.date(\"2012-01-01\", \"2012-12-31\"),\n",
    "            ee.Filter.date(\"2019-01-01\", \"2019-12-31\"),\n",
    "        )\n",
    ")"
   ]
  },
  {
   "cell_type": "code",
   "execution_count": null,
   "metadata": {},
   "outputs": [],
   "source": [
    "from datetime import datetime as dt\n",
    "\n",
    "fig, ax = plt.subplots(figsize=(10,4))\n",
    "\n",
    "indices.geetools.plot_doy_by_years(\n",
    "    band = \"NDVI\",\n",
    "    region = grassland.geometry(),\n",
    "    reducer = \"mean\",\n",
    "    scale = 500,\n",
    "    ax = ax,\n",
    "    colors = ['#39a8a7', '#9c4f97']\n",
    ")\n",
    "\n",
    "# once created the axes can be modified as needed using pure matplotlib functions\n",
    "ax.set_ylabel(\"NDVI (x1e4)\")\n",
    "ax.set_title(\"Average NDVI Values by day of year for Grassland\")\n",
    "\n",
    "plt.show()"
   ]
  },
  {
   "cell_type": "markdown",
   "metadata": {},
   "source": []
  }
 ],
 "metadata": {
  "kernelspec": {
   "display_name": "geetools",
   "language": "python",
   "name": "python3"
  },
  "language_info": {
   "codemirror_mode": {
    "name": "ipython",
    "version": 3
   },
   "file_extension": ".py",
   "mimetype": "text/x-python",
   "name": "python",
   "nbconvert_exporter": "python",
   "pygments_lexer": "ipython3",
   "version": "3.11.9"
  }
 },
 "nbformat": 4,
 "nbformat_minor": 2
}
