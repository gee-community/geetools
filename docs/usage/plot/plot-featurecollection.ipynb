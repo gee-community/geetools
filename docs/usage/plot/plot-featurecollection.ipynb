{
 "cells": [
  {
   "cell_type": "markdown",
   "metadata": {},
   "source": [
    "# Plot FeatureCollection\n",
    "\n",
    "The `geetools` extension contains a set of functions for rendering charts from `ee.FeatureCollection` objects. The choice of function determines the arrangement of data in the chart, i.e., what defines x- and y-axis values and what defines the series. Use the following function descriptions and examples to determine the best function and chart type for your purpose."
   ]
  },
  {
   "cell_type": "code",
   "execution_count": null,
   "metadata": {
    "tags": [
     "remove-cell"
    ]
   },
   "outputs": [],
   "source": [
    "import ee, geetools, os, re, httplib2\n",
    "\n",
    "if \"EARTHENGINE_SERVICE_ACCOUNT\" in os.environ:\n",
    "    private_key = os.environ[\"EARTHENGINE_SERVICE_ACCOUNT\"]\n",
    "    private_key = private_key[1:-1] if re.compile(r\"^'[^']*'$\").match(private_key) else private_key\n",
    "    ee.Initialize.geetools.from_service_account(private_key)\n",
    "\n",
    "elif \"EARTHENGINE_PROJECT\" in os.environ:\n",
    "    ee.Initialize(project=os.environ[\"EARTHENGINE_PROJECT\"], http_transport=httplib2.Http())\n",
    "\n",
    "else:\n",
    "    raise ValueError(\"EARTHENGINE_SERVICE_ACCOUNT or EARTHENGINE_PROJECT environment variable is missing\")"
   ]
  },
  {
   "cell_type": "markdown",
   "metadata": {},
   "source": [
    "[![github](https://img.shields.io/badge/-see%20sources-white?logo=github&labelColor=555)](https://github.com/gee-community/geetools/blob/main/docs/usage/plot/plot-featurecollection.ipynb)\n",
    "[![colab](https://img.shields.io/badge/-open%20in%20colab-blue?logo=googlecolab&labelColor=555)](https://colab.research.google.com/github/gee-community/geetools/blob/main/docs/usage/plot/plot-featurecollection.ipynb)"
   ]
  },
  {
   "cell_type": "markdown",
   "metadata": {},
   "source": [
    "## Set up environment\n",
    "\n",
    "Install all the required libs if necessary and perform the import statements upstream."
   ]
  },
  {
   "cell_type": "code",
   "execution_count": null,
   "metadata": {},
   "outputs": [],
   "source": [
    "# uncomment if installation of libs is necessary\n",
    "# !pip install earthengine-api geetools"
   ]
  },
  {
   "cell_type": "code",
   "execution_count": null,
   "metadata": {},
   "outputs": [],
   "source": [
    "from matplotlib import pyplot as plt\n",
    "\n",
    "import ee\n",
    "import geetools #noqa: F401"
   ]
  },
  {
   "cell_type": "code",
   "execution_count": null,
   "metadata": {},
   "outputs": [],
   "source": [
    "# uncomment if authetication to GEE is needed\n",
    "# ee.Authenticate()\n",
    "# ee.Intialize(project=\"<your_project>\")"
   ]
  },
  {
   "cell_type": "markdown",
   "metadata": {},
   "source": [
    "## Example data\n",
    "\n",
    "The following examples rely on a FeatureCollection composed of three ecoregion features with properties that describe climate normals."
   ]
  },
  {
   "cell_type": "code",
   "execution_count": null,
   "metadata": {},
   "outputs": [],
   "source": [
    "# Import the example feature collection.\n",
    "ecoregions = ee.FeatureCollection('projects/google/charts_feature_example')"
   ]
  },
  {
   "cell_type": "markdown",
   "metadata": {},
   "source": [
    "## Plot by features\n",
    "\n",
    "Features are plotted along the x-axis by values of a selected property. Series are defined by a list of property names whose values are plotted along the y-axis. The type of produced chart can be controlled by the `type` parameter as shown in the following examples.\n",
    "\n",
    "If you want to use another plotting library you can get the raw data using the `byFeatures` function."
   ]
  },
  {
   "cell_type": "code",
   "execution_count": null,
   "metadata": {
    "tags": [
     "remove-input"
    ]
   },
   "outputs": [],
   "source": [
    "import matplotlib.pyplot as plt\n",
    "import numpy as np\n",
    "\n",
    "# Data for the chart\n",
    "features = ['f1', 'f2', 'f3']\n",
    "p1_values = [0.5, 2.5, 4.5]\n",
    "p2_values = [1.5, 3.5, 5.5]\n",
    "p3_values = [2.5, 4.0, 6.5]\n",
    "\n",
    "# Set the width of the bars\n",
    "bar_width = 0.25\n",
    "index = np.arange(len(features))\n",
    "offset = 0.005\n",
    "\n",
    "# Create the plot\n",
    "fig, ax = plt.subplots(figsize=(10, 4))\n",
    "\n",
    "# Plotting the bars\n",
    "rects1 = ax.bar(index, p1_values, bar_width, label='p1', color='#1d6b99')\n",
    "rects2 = ax.bar(index + (bar_width + offset), p2_values, bar_width, label='p2', color='#cf513e')\n",
    "rects3 = ax.bar(index + 2 * (bar_width + offset), p3_values, bar_width, label='p3', color='#f0af07')\n",
    "\n",
    "# Add labels, title, and custom x-axis tick labels\n",
    "ax.set_xlabel('Features by property value')\n",
    "ax.set_ylabel('Series property value')\n",
    "ax.set_xticks(index + bar_width)\n",
    "ax.set_xticklabels(features)\n",
    "\n",
    "# Add a legend\n",
    "ax.legend(loc='upper center', bbox_to_anchor=(0.85, 1.15), ncol=3, title='Property names')\n",
    "\n",
    "# set the grid display\n",
    "ax.grid(axis=\"y\")\n",
    "ax.set_axisbelow(True)\n",
    "ax.spines[\"top\"].set_visible(False)\n",
    "ax.spines[\"right\"].set_visible(False)\n",
    "\n",
    "# Show the plot\n",
    "plt.tight_layout()\n",
    "plt.show()"
   ]
  },
  {
   "cell_type": "markdown",
   "metadata": {},
   "source": [
    "```{api}\n",
    "- {docstring}`geetools.FeatureCollectionAccessor.plot_by_features`\n",
    "- {docstring}`ee.FeatureCollection.geetools.byFeatures`\n",
    "```"
   ]
  },
  {
   "cell_type": "markdown",
   "metadata": {},
   "source": [
    "### Column chart\n",
    "\n",
    "Features are plotted along the x-axis, labeled by values of a selected property. Series are represented by adjacent columns defined by a list of property names whose values are plotted along the y-axis."
   ]
  },
  {
   "cell_type": "code",
   "execution_count": null,
   "metadata": {},
   "outputs": [],
   "source": [
    "fig, ax = plt.subplots(figsize=(10, 4))\n",
    "\n",
    "# initialize the plot with the ecoregions data\n",
    "ecoregions.geetools.plot_by_features(\n",
    "    type = \"bar\",\n",
    "    featureId = \"label\",\n",
    "    properties = ['01_tmean', '02_tmean', '03_tmean', '04_tmean', '05_tmean', '06_tmean', '07_tmean', '08_tmean', '09_tmean', '10_tmean', '11_tmean', '12_tmean'],\n",
    "    labels = [\"jan\", \"feb\", \"mar\", \"apr\", \"may\", \"jun\", \"jul\", \"aug\", \"sep\", \"oct\", \"nov\", \"dec\"],\n",
    "    colors = ['#604791', '#1d6b99', '#39a8a7', '#0f8755', '#76b349', '#f0af07', '#e37d05', '#cf513e', '#96356f', '#724173', '#9c4f97', '#696969'],\n",
    "    ax = ax\n",
    ")\n",
    "\n",
    "# once created the axes can be modified as needed using pure matplotlib functions\n",
    "ax.set_title(\"Average Monthly Temperature by Ecoregion\")\n",
    "ax.set_xlabel(\"Ecoregion\")\n",
    "ax.set_ylabel(\"Temperature (°C)\")\n",
    "plt.show()"
   ]
  },
  {
   "cell_type": "markdown",
   "metadata": {},
   "source": [
    "### Stacked column chart\n",
    "\n",
    "Features are plotted along the x-axis, labeled by values of a selected property. Series are represented by stacked columns defined by a list of property names whose values are plotted along the y-axis as the cumulative series sum."
   ]
  },
  {
   "cell_type": "code",
   "execution_count": null,
   "metadata": {},
   "outputs": [],
   "source": [
    "fig, ax = plt.subplots(figsize=(10, 4))\n",
    "\n",
    "# initialize theplot with the ecoregions data\n",
    "ecoregions.geetools.plot_by_features(\n",
    "    type = \"stacked\",\n",
    "    featureId = \"label\",\n",
    "    properties = ['01_ppt', '02_ppt', '03_ppt', '04_ppt', '05_ppt', '06_ppt', '07_ppt', '08_ppt', '09_ppt', '10_ppt', '11_ppt', '12_ppt'],\n",
    "    labels = [\"jan\", \"feb\", \"mar\", \"apr\", \"may\", \"jun\", \"jul\", \"aug\", \"sep\", \"oct\", \"nov\", \"dec\"],\n",
    "    colors = ['#604791', '#1d6b99', '#39a8a7', '#0f8755', '#76b349', '#f0af07', '#e37d05', '#cf513e', '#96356f', '#724173', '#9c4f97', '#696969'],\n",
    "    ax = ax\n",
    ")\n",
    "\n",
    "# once created the axes can be modified as needed using pure matplotlib functions\n",
    "ax.set_title(\"Average Monthly Precipitation by Ecoregion\")\n",
    "ax.set_xlabel(\"Ecoregion\")\n",
    "ax.set_ylabel(\"Precipitation (mm)\")\n",
    "plt.show()"
   ]
  },
  {
   "cell_type": "markdown",
   "metadata": {},
   "source": [
    "### Scatter chart\n",
    "\n",
    "Features are plotted along the x-axis, labeled by values of a selected property. Series are represented by points defined by a list of property names whose values are plotted along the y-axis."
   ]
  },
  {
   "cell_type": "code",
   "execution_count": null,
   "metadata": {},
   "outputs": [],
   "source": [
    "fig, ax = plt.subplots(figsize=(10, 4))\n",
    "\n",
    "# initialize theplot with the ecoregions data\n",
    "ecoregions.geetools.plot_by_features(\n",
    "    type = \"scatter\",\n",
    "    featureId = \"label\",\n",
    "    properties = ['01_ppt', '06_ppt', '09_ppt'],\n",
    "    labels = [\"jan\", \"jun\", \"sep\"],\n",
    "    ax = ax\n",
    ")\n",
    "\n",
    "# once created the axes can be modified as needed using pure matplotlib functions\n",
    "ax.set_title(\"Average Monthly Precipitation by Ecoregion\")\n",
    "ax.set_xlabel(\"Ecoregion\")\n",
    "ax.set_ylabel(\"Precipitation (mm)\")\n",
    "plt.show()"
   ]
  },
  {
   "cell_type": "markdown",
   "metadata": {},
   "source": [
    "### Pie chart\n",
    "\n",
    "The pie is a property, each slice is the share from each feature whose value is cast as a percentage of the sum of all values of features composing the pie."
   ]
  },
  {
   "cell_type": "code",
   "execution_count": null,
   "metadata": {},
   "outputs": [],
   "source": [
    "fig, ax = plt.subplots(figsize=(10, 4))\n",
    "\n",
    "# initialize theplot with the ecoregions data\n",
    "ecoregions.geetools.plot_by_features(\n",
    "    type = \"pie\",\n",
    "    featureId = \"label\",\n",
    "    properties = ['06_ppt'],\n",
    "    colors = [\"#f0af07\", \"#0f8755\", \"#76b349\"],\n",
    "    ax = ax\n",
    ")\n",
    "\n",
    "# once created the axes can be modified as needed using pure matplotlib functions\n",
    "ax.set_title(\"Share of precipitation in June by Ecoregion\")\n",
    "plt.show()"
   ]
  },
  {
   "cell_type": "markdown",
   "metadata": {},
   "source": [
    "### Donut chart\n",
    "\n",
    "The donut is a property, each slice is the share from each feature whose value is cast as a percentage of the sum of all values of features composing the donut."
   ]
  },
  {
   "cell_type": "code",
   "execution_count": null,
   "metadata": {},
   "outputs": [],
   "source": [
    "fig, ax = plt.subplots(figsize=(10, 4))\n",
    "\n",
    "# initialize theplot with the ecoregions data\n",
    "ecoregions.geetools.plot_by_features(\n",
    "    type = \"donut\",\n",
    "    featureId = \"label\",\n",
    "    properties = ['07_ppt'],\n",
    "    colors = [\"#f0af07\", \"#0f8755\", \"#76b349\"],\n",
    "    ax = ax\n",
    ")\n",
    "\n",
    "# once created the axes can be modified as needed using pure matplotlib functions\n",
    "ax.set_title(\"Share of precipitation in July by Ecoregion\")\n",
    "plt.show()"
   ]
  },
  {
   "cell_type": "markdown",
   "metadata": {},
   "source": [
    "## Plot by properties\n",
    "\n",
    "Feature properties are plotted along the x-axis by name; values of the given properties are plotted along the y-axis. Series are features labeled by values of a selected property. The type of produced chart can be controlled by the `type` parameter as shown in the following examples."
   ]
  },
  {
   "cell_type": "code",
   "execution_count": null,
   "metadata": {
    "tags": [
     "remove-input"
    ]
   },
   "outputs": [],
   "source": [
    "import matplotlib.pyplot as plt\n",
    "import numpy as np\n",
    "\n",
    "# Data for the chart\n",
    "features = ['p1', 'p2', 'p3']\n",
    "p1_values = [0.5, 2.5, 4.5]\n",
    "p2_values = [1.5, 3.5, 5.5]\n",
    "p3_values = [2.5, 4.0, 6.5]\n",
    "\n",
    "# Set the width of the bars\n",
    "bar_width = 0.25\n",
    "index = np.arange(len(features))\n",
    "offset = 0.005\n",
    "\n",
    "# Create the plot\n",
    "fig, ax = plt.subplots(figsize=(10, 4))\n",
    "\n",
    "# Plotting the bars\n",
    "rects1 = ax.bar(index, p1_values, bar_width, label='f1', color='#1d6b99')\n",
    "rects2 = ax.bar(index + (bar_width + offset), p2_values, bar_width, label='f2', color='#cf513e')\n",
    "rects3 = ax.bar(index + 2 * (bar_width + offset), p3_values, bar_width, label='f3', color='#f0af07')\n",
    "\n",
    "# Add labels, title, and custom x-axis tick labels\n",
    "ax.set_xlabel('Property names')\n",
    "ax.set_ylabel('Series property value')\n",
    "ax.set_xticks(index + bar_width)\n",
    "ax.set_xticklabels(features)\n",
    "\n",
    "# Add a legend\n",
    "ax.legend(loc='upper center', bbox_to_anchor=(0.85, 1.15), ncol=3, title='Features by property value')\n",
    "\n",
    "# set the grid display\n",
    "ax.grid(axis=\"y\")\n",
    "ax.set_axisbelow(True)\n",
    "ax.spines[\"top\"].set_visible(False)\n",
    "ax.spines[\"right\"].set_visible(False)\n",
    "\n",
    "# Show the plot\n",
    "plt.tight_layout()\n",
    "plt.show()"
   ]
  },
  {
   "cell_type": "markdown",
   "metadata": {},
   "source": [
    "```{api}\n",
    "- {docstring}`ee.FeatureCollection.geetools.plot_by_properties`\n",
    "- {docstring}`ee.FeatureCollection.geetools.byProperties`\n",
    "```"
   ]
  },
  {
   "cell_type": "markdown",
   "metadata": {},
   "source": [
    "## Column chart\n",
    "\n",
    "Feature properties are plotted along the x-axis, labeled and sorted by a dictionary input; the values of the given properties are plotted along the y-axis. Series are features, represented by columns, labeled by values of a selected property."
   ]
  },
  {
   "cell_type": "code",
   "execution_count": null,
   "metadata": {},
   "outputs": [],
   "source": [
    "fig, ax = plt.subplots(figsize=(10, 4))\n",
    "\n",
    "\n",
    "# initialize theplot with the ecoregions data\n",
    "ax = ecoregions.geetools.plot_by_properties(\n",
    "    type = \"bar\",\n",
    "    properties = ['01_ppt', '02_ppt', '03_ppt', '04_ppt', '05_ppt', '06_ppt', '07_ppt', '08_ppt', '09_ppt', '10_ppt', '11_ppt', '12_ppt'],\n",
    "    labels = [\"jan\", \"feb\", \"mar\", \"apr\", \"may\", \"jun\", \"jul\", \"aug\", \"sep\", \"oct\", \"nov\", \"dec\"],\n",
    "    featureId = \"label\",\n",
    "    colors = [\"#f0af07\", \"#0f8755\", \"#76b349\"],\n",
    "    ax = ax\n",
    ")\n",
    "\n",
    "# once created the axes can be modified as needed using pure matplotlib functions\n",
    "ax.set_title(\"Average Monthly Precipitation by Ecoregion\")\n",
    "ax.set_xlabel(\"Month\")\n",
    "ax.set_ylabel(\"Precipitation (mm)\")\n",
    "plt.show()"
   ]
  },
  {
   "cell_type": "markdown",
   "metadata": {},
   "source": [
    "## Line chart\n",
    "\n",
    "Feature properties are plotted along the x-axis, labeled and sorted by a dictionary input; the values of the given properties are plotted along the y-axis. Series are features, represented by columns, labeled by values of a selected property."
   ]
  },
  {
   "cell_type": "code",
   "execution_count": null,
   "metadata": {},
   "outputs": [],
   "source": [
    "fig, ax = plt.subplots(figsize=(10, 4))\n",
    "\n",
    "# initialize theplot with the ecoregions data\n",
    "ax = ecoregions.geetools.plot_by_properties(\n",
    "    type = \"plot\",\n",
    "    properties = [\"01_ppt\", \"02_ppt\", \"03_ppt\", \"04_ppt\", \"05_ppt\", \"06_ppt\", \"07_ppt\", \"08_ppt\", \"09_ppt\", \"10_ppt\", \"11_ppt\", \"12_ppt\"],\n",
    "    featureId = \"label\",\n",
    "    labels = [\"jan\", \"feb\", \"mar\", \"apr\", \"may\", \"jun\", \"jul\", \"aug\", \"sep\", \"oct\", \"nov\", \"dec\"],\n",
    "    colors = [\"#f0af07\", \"#0f8755\", \"#76b349\"],\n",
    "    ax = ax\n",
    ")\n",
    "\n",
    "# once created the axes can be modified as needed using pure matplotlib functions\n",
    "ax.set_title(\"Average Monthly Precipitation by Ecoregion\")\n",
    "ax.set_xlabel(\"Month\")\n",
    "ax.set_ylabel(\"Precipitation (mm)\")\n",
    "plt.show()"
   ]
  },
  {
   "cell_type": "markdown",
   "metadata": {},
   "source": [
    "### Area chart \n",
    "\n",
    "Feature properties are plotted along the x-axis, labeled and sorted by a dictionary input; the values of the given properties are plotted along the y-axis. Series are features, represented by lines and shaded areas, labeled by values of a selected property."
   ]
  },
  {
   "cell_type": "code",
   "execution_count": null,
   "metadata": {},
   "outputs": [],
   "source": [
    "fig, ax = plt.subplots(figsize=(10, 4))\n",
    "\n",
    "# initialize the plot with the ecoregions data\n",
    "ax = ecoregions.geetools.plot_by_properties(\n",
    "    type = \"fill_between\",\n",
    "    properties = [\"01_ppt\", \"02_ppt\", \"03_ppt\", \"04_ppt\", \"05_ppt\", \"06_ppt\", \"07_ppt\", \"08_ppt\", \"09_ppt\", \"10_ppt\", \"11_ppt\", \"12_ppt\"],\n",
    "    labels = [\"jan\", \"feb\", \"mar\", \"apr\", \"may\", \"jun\", \"jul\", \"aug\", \"sep\", \"oct\", \"nov\", \"dec\"],\n",
    "    featureId = \"label\",\n",
    "    colors = [\"#f0af07\", \"#0f8755\", \"#76b349\"],\n",
    "    ax = ax\n",
    ")\n",
    "\n",
    "# once created the axes can be modified as needed using pure matplotlib functions\n",
    "ax.set_title(\"Average Monthly Precipitation by Ecoregion\")\n",
    "ax.set_xlabel(\"Month\")\n",
    "ax.set_ylabel(\"Precipitation (mm)\")\n",
    "plt.show()"
   ]
  },
  {
   "cell_type": "markdown",
   "metadata": {},
   "source": [
    "## Plot hist\n",
    "\n",
    "```{api}\n",
    "{docstring}`ee.FeatureCollection.geetools.plot_hist`\n",
    "```\n",
    "\n",
    "The x-axis is defined by value bins for the range of values of a selected property; the y-axis is the number of elements in the given bin."
   ]
  },
  {
   "cell_type": "code",
   "execution_count": null,
   "metadata": {},
   "outputs": [],
   "source": [
    "fig, ax = plt.subplots(figsize=(10, 4))\n",
    "\n",
    "# load some data\n",
    "normClim = ee.ImageCollection('OREGONSTATE/PRISM/Norm91m').toBands()\n",
    "\n",
    "# Make a point sample of climate variables for a region in western USA.\n",
    "region = ee.Geometry.Rectangle(-123.41, 40.43, -116.38, 45.14)\n",
    "climSamp = normClim.sample(region, 5000)\n",
    "\n",
    "\n",
    "# initialize the plot with the ecoregions data\n",
    "ax = climSamp.geetools.plot_hist(\n",
    "    property = \"07_ppt\",\n",
    "    label = \"July Precipitation (mm)\",\n",
    "    color = '#1d6b99',\n",
    "    ax = ax,\n",
    "    bins = 30\n",
    ")\n",
    "\n",
    "# once created the axes can be modified as needed using pure matplotlib functions\n",
    "ax.set_title(\"July Precipitation Distribution for NW USA\")\n",
    "plt.show()"
   ]
  },
  {
   "cell_type": "code",
   "execution_count": null,
   "metadata": {},
   "outputs": [],
   "source": []
  }
 ],
 "metadata": {
  "kernelspec": {
   "display_name": "Python 3",
   "language": "python",
   "name": "python3"
  },
  "language_info": {
   "codemirror_mode": {
    "name": "ipython",
    "version": 3
   },
   "file_extension": ".py",
   "mimetype": "text/x-python",
   "name": "python",
   "nbconvert_exporter": "python",
   "pygments_lexer": "ipython3",
   "version": "3.11.9"
  }
 },
 "nbformat": 4,
 "nbformat_minor": 2
}
