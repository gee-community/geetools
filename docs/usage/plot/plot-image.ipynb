{
 "cells": [
  {
   "cell_type": "markdown",
   "metadata": {},
   "source": [
    "# Plot Image\n",
    "\n",
    "The `geetools` extention contains a set of functions for reducing `ee.Image` objects by region(s) and rendering charts from the results. The choice of function dictates the arrangement of data in the chart, i.e., what defines x- and y-axis values and what defines the series. Use the following function descriptions and examples to determine the best function and chart type for your purpose.\n"
   ]
  },
  {
   "cell_type": "code",
   "execution_count": null,
   "metadata": {
    "tags": [
     "remove-cell"
    ]
   },
   "outputs": [],
   "source": [
    "import ee, geetools, os, re, httplib2\n",
    "\n",
    "if \"EARTHENGINE_SERVICE_ACCOUNT\" in os.environ:\n",
    "    private_key = os.environ[\"EARTHENGINE_SERVICE_ACCOUNT\"]\n",
    "    private_key = private_key[1:-1] if re.compile(r\"^'[^']*'$\").match(private_key) else private_key\n",
    "    ee.Initialize.geetools.from_service_account(private_key)\n",
    "\n",
    "elif \"EARTHENGINE_PROJECT\" in os.environ:\n",
    "    ee.Initialize(project=os.environ[\"EARTHENGINE_PROJECT\"], http_transport=httplib2.Http())\n",
    "\n",
    "else:\n",
    "    raise ValueError(\"EARTHENGINE_SERVICE_ACCOUNT or EARTHENGINE_PROJECT environment variable is missing\")"
   ]
  },
  {
   "cell_type": "markdown",
   "metadata": {},
   "source": [
    "[![github](https://img.shields.io/badge/-see%20sources-white?logo=github&labelColor=555)](https://github.com/gee-community/geetools/blob/main/docs/usage/plot/plot-image.ipynb)\n",
    "[![colab](https://img.shields.io/badge/-open%20in%20colab-blue?logo=googlecolab&labelColor=555)](https://colab.research.google.com/github/gee-community/geetools/blob/main/docs/usage/plot/plot-image.ipynb)"
   ]
  },
  {
   "cell_type": "markdown",
   "metadata": {},
   "source": [
    "## Set up environment\n",
    "\n",
    "Install all the requireed libs if necessary. and perform the import satements upstream."
   ]
  },
  {
   "cell_type": "code",
   "execution_count": null,
   "metadata": {},
   "outputs": [],
   "source": [
    "# uncomment if installation of libs is necessary\n",
    "# !pip install earthengine-api geetools"
   ]
  },
  {
   "cell_type": "code",
   "execution_count": null,
   "metadata": {},
   "outputs": [],
   "source": [
    "from matplotlib import pyplot as plt\n",
    "\n",
    "import ee\n",
    "import geetools #noqa: F401"
   ]
  },
  {
   "cell_type": "code",
   "execution_count": null,
   "metadata": {},
   "outputs": [],
   "source": [
    "# uncomment if authetication to GEE is needed\n",
    "# ee.Authenticate()\n",
    "# ee.Intialize(project=\"<your_project>\")"
   ]
  },
  {
   "cell_type": "markdown",
   "metadata": {},
   "source": [
    "## Example data\n",
    "\n",
    "The following examples rely on a `ee.FeatureCollection` composed of three ecoregion features that define regions by which to reduce image data. The Image data are PRISM climate normals, where bands describe climate variables per month; e.g., July precipitation or January mean temperature.\n"
   ]
  },
  {
   "cell_type": "code",
   "execution_count": null,
   "metadata": {},
   "outputs": [],
   "source": [
    "ecoregions = ee.FeatureCollection(\"projects/google/charts_feature_example\").select([\"label\", \"value\",\"warm\"])\n",
    "normClim = ee.ImageCollection('OREGONSTATE/PRISM/Norm91m').toBands()"
   ]
  },
  {
   "cell_type": "markdown",
   "metadata": {},
   "source": [
    "## Plot by regions\n",
    "\n",
    "Reduction regions are plotted along the x-axis, labeled by values of a selected feature property. Series are defined by band names whose region reduction results are plotted along the y-axis.\n",
    "\n",
    "If you want to use another plotting library, you can use the `byRegions` function to get the data and plot it with your favorite library.\n"
   ]
  },
  {
   "cell_type": "code",
   "execution_count": null,
   "metadata": {
    "tags": [
     "remove-input"
    ]
   },
   "outputs": [],
   "source": [
    "import matplotlib.pyplot as plt\n",
    "import numpy as np\n",
    "\n",
    "# Data for the chart\n",
    "features = ['r1', 'r2', 'r3']\n",
    "p1_values = [0.5, 2.5, 4.5]\n",
    "p2_values = [1.5, 3.5, 5.5]\n",
    "p3_values = [2.5, 4.0, 6.5]\n",
    "\n",
    "# Set the width of the bars\n",
    "bar_width = 0.25\n",
    "index = np.arange(len(features))\n",
    "offset = 0.005\n",
    "\n",
    "# Create the plot\n",
    "fig, ax = plt.subplots(figsize=(10, 4))\n",
    "\n",
    "# Plotting the bars\n",
    "rects1 = ax.bar(index, p1_values, bar_width, label='b1', color='#1d6b99')\n",
    "rects2 = ax.bar(index + (bar_width + offset), p2_values, bar_width, label='b2', color='#cf513e')\n",
    "rects3 = ax.bar(index + 2 * (bar_width + offset), p3_values, bar_width, label='b3', color='#f0af07')\n",
    "\n",
    "# Add labels, title, and custom x-axis tick labels\n",
    "ax.set_xlabel('Regions by feature property value')\n",
    "ax.set_ylabel('Series reduction value')\n",
    "ax.set_xticks(index + bar_width)\n",
    "ax.set_xticklabels(features)\n",
    "\n",
    "# Add a legend\n",
    "ax.legend(loc='upper center', bbox_to_anchor=(0.85, 1.15), ncol=3, title='Band names')\n",
    "\n",
    "# set the grid display\n",
    "ax.grid(axis=\"y\")\n",
    "ax.set_axisbelow(True)\n",
    "ax.spines[\"top\"].set_visible(False)\n",
    "ax.spines[\"right\"].set_visible(False)\n",
    "\n",
    "# Show the plot\n",
    "plt.tight_layout()\n",
    "plt.show()"
   ]
  },
  {
   "cell_type": "markdown",
   "metadata": {},
   "source": [
    "```{api}\n",
    "- {docstring}`ee.Image.geetools.plot_by_regions`\n",
    "- {docstring}`ee.Image.geetools.byRegions`\n",
    "```"
   ]
  },
  {
   "cell_type": "markdown",
   "metadata": {},
   "source": [
    "### Column chart\n",
    "\n",
    "In this example, image bands representing average monthly temperature are reduced to the mean among pixels intersecting each of three ecoregions. The results are plotted as columns per month by ecoregion, where column height indicates the respective mean monthly temperature."
   ]
  },
  {
   "cell_type": "code",
   "execution_count": null,
   "metadata": {},
   "outputs": [],
   "source": [
    "fig, ax = plt.subplots(figsize=(10, 4))\n",
    "\n",
    "normClim.geetools.plot_by_regions(\n",
    "    type = \"bar\",\n",
    "    regions = ecoregions,\n",
    "    reducer = \"mean\",\n",
    "    scale = 500,\n",
    "    regionId = \"label\",\n",
    "    bands = [\"01_tmean\", \"02_tmean\", \"03_tmean\", \"04_tmean\", \"05_tmean\", \"06_tmean\", \"07_tmean\", \"08_tmean\", \"09_tmean\", \"10_tmean\", \"11_tmean\", \"12_tmean\"],\n",
    "    labels = [\"jan\", \"feb\", \"mar\", \"apr\", \"may\", \"jun\", \"jul\", \"aug\", \"sep\", \"oct\", \"nov\", \"dec\"],\n",
    "    colors = ['#604791', '#1d6b99', '#39a8a7', '#0f8755', '#76b349', '#f0af07', '#e37d05', '#cf513e', '#96356f', '#724173', '#9c4f97', '#696969'],\n",
    "    ax = ax\n",
    ")\n",
    "\n",
    "# once created the axes can be modified as needed using pure matplotlib functions\n",
    "ax.set_title(\"Average Monthly Temperature by Ecoregion\")\n",
    "ax.set_xlabel(\"Ecoregion\")\n",
    "ax.set_ylabel(\"Temperature (°C)\")\n",
    "plt.show()"
   ]
  },
  {
   "cell_type": "markdown",
   "metadata": {},
   "source": [
    "## Bar chart \n",
    "\n",
    "The previous column chart can be swiped from vertical column to horizontal bars a bar chart by changing the `type` input from 'bar' to 'barh'."
   ]
  },
  {
   "cell_type": "code",
   "execution_count": null,
   "metadata": {},
   "outputs": [],
   "source": [
    "fig, ax = plt.subplots(figsize=(10, 4))\n",
    "\n",
    "fc = normClim.geetools.plot_by_regions(\n",
    "    type = \"barh\",\n",
    "    regions = ecoregions,\n",
    "    reducer = \"mean\",\n",
    "    scale = 500,\n",
    "    regionId = \"label\",\n",
    "    bands = [\"01_tmean\", \"02_tmean\", \"03_tmean\", \"04_tmean\", \"05_tmean\", \"06_tmean\", \"07_tmean\", \"08_tmean\", \"09_tmean\", \"10_tmean\", \"11_tmean\", \"12_tmean\"],\n",
    "    labels = [\"jan\", \"feb\", \"mar\", \"apr\", \"may\", \"jun\", \"jul\", \"aug\", \"sep\", \"oct\", \"nov\", \"dec\"],\n",
    "    colors = ['#604791', '#1d6b99', '#39a8a7', '#0f8755', '#76b349', '#f0af07', '#e37d05', '#cf513e', '#96356f', '#724173', '#9c4f97', '#696969'],\n",
    "    ax = ax\n",
    ")\n",
    "\n",
    "# once created the axes can be modified as needed using pure matplotlib functions\n",
    "ax.set_title(\"Average Monthly Temperature by Ecoregion\")\n",
    "ax.set_ylabel(\"Ecoregion\")\n",
    "ax.set_xlabel(\"Temperature (°C)\")\n",
    "plt.show()"
   ]
  },
  {
   "cell_type": "markdown",
   "metadata": {},
   "source": [
    "### Stacked bar chart \n",
    "\n",
    "An absolute stacked bar chart relates the total of a numeric variable by increments of a contributing categorical variable series. For instance, in this example, total precipitation is plotted as the accumulation of monthly precipitation over a year, by ecoregion. Monthly precipitation totals are derived from image bands, where each band represents a grid of average total precipitation for a given month, reduced to the mean of the pixels intersecting each of three ecoregions."
   ]
  },
  {
   "cell_type": "code",
   "execution_count": null,
   "metadata": {},
   "outputs": [],
   "source": [
    "fig, ax = plt.subplots(figsize=(10, 4))\n",
    "\n",
    "fc = normClim.geetools.plot_by_regions(\n",
    "    type = \"stacked\",\n",
    "    regions = ecoregions,\n",
    "    reducer = \"mean\",\n",
    "    scale = 500,\n",
    "    regionId = \"label\",\n",
    "    bands = ['01_ppt', '02_ppt', '03_ppt', '04_ppt', '05_ppt', '06_ppt', '07_ppt', '08_ppt', '09_ppt', '10_ppt', '11_ppt', '12_ppt'],\n",
    "    labels = [\"jan\", \"feb\", \"mar\", \"apr\", \"may\", \"jun\", \"jul\", \"aug\", \"sep\", \"oct\", \"nov\", \"dec\"],\n",
    "    colors = ['#604791', '#1d6b99', '#39a8a7', '#0f8755', '#76b349', '#f0af07', '#e37d05', '#cf513e', '#96356f', '#724173', '#9c4f97', '#696969'],\n",
    "    ax = ax\n",
    ")\n",
    "\n",
    "# once created the axes can be modified as needed using pure matplotlib functions\n",
    "ax.set_title(\"Average Monthly Temperature by Ecoregion\")\n",
    "ax.set_xlabel(\"Ecoregion\")\n",
    "ax.set_ylabel(\"Temperature (°C)\")\n",
    "plt.show()"
   ]
  },
  {
   "cell_type": "markdown",
   "metadata": {},
   "source": [
    "## Plot by bands\n",
    "\n",
    "Bands are plotted along the x-axis. Series are labeled by values of a feature property. Reduction of the region defined by the geometry of respective series features are plotted along the y-axis."
   ]
  },
  {
   "cell_type": "code",
   "execution_count": null,
   "metadata": {
    "tags": [
     "remove-input"
    ]
   },
   "outputs": [],
   "source": [
    "import matplotlib.pyplot as plt\n",
    "import numpy as np\n",
    "\n",
    "# Data for the chart\n",
    "features = ['b1', 'b2', 'b3']\n",
    "p1_values = [0.5, 2.5, 4.5]\n",
    "p2_values = [1.5, 3.5, 5.5]\n",
    "p3_values = [2.5, 4.0, 6.5]\n",
    "\n",
    "# Set the width of the bars\n",
    "bar_width = 0.25\n",
    "index = np.arange(len(features))\n",
    "offset = 0.005\n",
    "\n",
    "# Create the plot\n",
    "fig, ax = plt.subplots(figsize=(10, 4))\n",
    "\n",
    "# Plotting the bars\n",
    "rects1 = ax.bar(index, p1_values, bar_width, label='r1', color='#1d6b99')\n",
    "rects2 = ax.bar(index + (bar_width + offset), p2_values, bar_width, label='r2', color='#cf513e')\n",
    "rects3 = ax.bar(index + 2 * (bar_width + offset), p3_values, bar_width, label='r3', color='#f0af07')\n",
    "\n",
    "# Add labels, title, and custom x-axis tick labels\n",
    "ax.set_xlabel('band names')\n",
    "ax.set_ylabel('Series reduction value')\n",
    "ax.set_xticks(index + bar_width)\n",
    "ax.set_xticklabels(features)\n",
    "\n",
    "# Add a legend\n",
    "ax.legend(loc='upper center', bbox_to_anchor=(0.85, 1.15), ncol=3, title='Regions by feature property value')\n",
    "\n",
    "# set the grid display\n",
    "ax.grid(axis=\"y\")\n",
    "ax.set_axisbelow(True)\n",
    "ax.spines[\"top\"].set_visible(False)\n",
    "ax.spines[\"right\"].set_visible(False)\n",
    "\n",
    "# Show the plot\n",
    "plt.tight_layout()\n",
    "plt.show()"
   ]
  },
  {
   "cell_type": "markdown",
   "metadata": {},
   "source": [
    "### Colmun chart \n",
    "\n",
    "This chart shows total average precipitation per month for three ecoregions. The results are derived from the region reduction of an image where each band is a grid of average total precipitation for a given month. Bands are plotted along the x-axis and regions define the series."
   ]
  },
  {
   "cell_type": "code",
   "execution_count": null,
   "metadata": {},
   "outputs": [],
   "source": [
    "fig, ax = plt.subplots(figsize=(10, 4))\n",
    "\n",
    "fc = normClim.geetools.plot_by_bands(\n",
    "    type = \"bar\",\n",
    "    regions = ecoregions,\n",
    "    reducer = \"mean\",\n",
    "    scale = 500,\n",
    "    regionId = \"label\",\n",
    "    bands = ['01_ppt', '02_ppt', '03_ppt', '04_ppt', '05_ppt', '06_ppt', '07_ppt', '08_ppt', '09_ppt', '10_ppt', '11_ppt', '12_ppt'],\n",
    "    labels = [\"jan\", \"feb\", \"mar\", \"apr\", \"may\", \"jun\", \"jul\", \"aug\", \"sep\", \"oct\", \"nov\", \"dec\"],\n",
    "    colors = [\"#f0af07\", \"#0f8755\", \"#76b349\"],\n",
    "    ax = ax\n",
    ")\n",
    "\n",
    "# once created the axes can be modified as needed using pure matplotlib functions\n",
    "ax.set_title(\"Average Monthly Precipitation by Ecoregion\")\n",
    "ax.set_xlabel(\"Month\")\n",
    "ax.set_ylabel(\"Precipitation (mm)\")\n",
    "plt.show()"
   ]
  },
  {
   "cell_type": "markdown",
   "metadata": {},
   "source": [
    "### Line chart \n",
    "\n",
    "The previous column chart can be rendered as a line chart by changing the `type` input from \"bar\" to \"plot\"."
   ]
  },
  {
   "cell_type": "code",
   "execution_count": null,
   "metadata": {},
   "outputs": [],
   "source": [
    "fig, ax = plt.subplots(figsize=(10, 4))\n",
    "\n",
    "fc = normClim.geetools.plot_by_bands(\n",
    "    type = \"plot\",\n",
    "    regions = ecoregions,\n",
    "    reducer = \"mean\",\n",
    "    scale = 500,\n",
    "    regionId = \"label\",\n",
    "    bands = ['01_ppt', '02_ppt', '03_ppt', '04_ppt', '05_ppt', '06_ppt', '07_ppt', '08_ppt', '09_ppt', '10_ppt', '11_ppt', '12_ppt'],\n",
    "    labels = [\"jan\", \"feb\", \"mar\", \"apr\", \"may\", \"jun\", \"jul\", \"aug\", \"sep\", \"oct\", \"nov\", \"dec\"],\n",
    "    colors = [\"#f0af07\", \"#0f8755\", \"#76b349\"],\n",
    "    ax = ax\n",
    ")\n",
    "\n",
    "# once created the axes can be modified as needed using pure matplotlib functions\n",
    "ax.set_title(\"Average Monthly Precipitation by Ecoregion\")\n",
    "ax.set_xlabel(\"Month\")\n",
    "ax.set_ylabel(\"Precipitation (mm)\")\n",
    "plt.show()"
   ]
  },
  {
   "cell_type": "markdown",
   "metadata": {},
   "source": [
    "### Area chart \n",
    "\n",
    "The previous column chart can be rendered as a line chart by changing the `type` input from \"plot\" to \"fill_between\"."
   ]
  },
  {
   "cell_type": "code",
   "execution_count": null,
   "metadata": {},
   "outputs": [],
   "source": [
    "fig, ax = plt.subplots(figsize=(10, 4))\n",
    "\n",
    "fc = normClim.geetools.plot_by_bands(\n",
    "    type = \"fill_between\",\n",
    "    regions = ecoregions,\n",
    "    reducer = \"mean\",\n",
    "    scale = 500,\n",
    "    regionId = \"label\",\n",
    "    bands = ['01_ppt', '02_ppt', '03_ppt', '04_ppt', '05_ppt', '06_ppt', '07_ppt', '08_ppt', '09_ppt', '10_ppt', '11_ppt', '12_ppt'],\n",
    "    labels = [\"jan\", \"feb\", \"mar\", \"apr\", \"may\", \"jun\", \"jul\", \"aug\", \"sep\", \"oct\", \"nov\", \"dec\"],\n",
    "    colors = [\"#f0af07\", \"#0f8755\", \"#76b349\"],\n",
    "    ax = ax\n",
    ")\n",
    "\n",
    "# once created the axes can be modified as needed using pure matplotlib functions\n",
    "ax.set_title(\"Average Monthly Precipitation by Ecoregion\")\n",
    "ax.set_xlabel(\"Month\")\n",
    "ax.set_ylabel(\"Precipitation (mm)\")\n",
    "plt.show()"
   ]
  },
  {
   "cell_type": "markdown",
   "metadata": {},
   "source": [
    "### Pie chart \n",
    "\n",
    "Average monthly precipitation is displayed as a proportion of the average total annual precipitation for a forest ecoregion. Image bands representing monthly precipitation are subset from a climate normals dataset and reduced to the mean of pixels intersecting the ecoregion."
   ]
  },
  {
   "cell_type": "code",
   "execution_count": null,
   "metadata": {},
   "outputs": [],
   "source": [
    "fig, ax = plt.subplots(figsize=(10, 4))\n",
    "\n",
    "normClim.geetools.plot_by_bands(\n",
    "    type = \"pie\",\n",
    "    regions = ecoregions.filter(ee.Filter.eq(\"label\", \"Forest\")),\n",
    "    reducer = \"mean\",\n",
    "    scale = 500,\n",
    "    regionId = \"label\",\n",
    "    bands = ['01_ppt', '02_ppt', '03_ppt', '04_ppt', '05_ppt', '06_ppt', '07_ppt', '08_ppt', '09_ppt', '10_ppt', '11_ppt', '12_ppt'],\n",
    "    labels = [\"jan\", \"feb\", \"mar\", \"apr\", \"may\", \"jun\", \"jul\", \"aug\", \"sep\", \"oct\", \"nov\", \"dec\"],\n",
    "    colors = ['#604791', '#1d6b99', '#39a8a7', '#0f8755', '#76b349', '#f0af07', '#e37d05', '#cf513e', '#96356f', '#724173', '#9c4f97', '#696969'],\n",
    "    ax = ax\n",
    ")\n",
    "\n",
    "# once created the axes can be modified as needed using pure matplotlib functions\n",
    "ax.set_title(\"Average Monthly Precipitation in Forest\")\n",
    "plt.show()"
   ]
  },
  {
   "cell_type": "markdown",
   "metadata": {},
   "source": [
    "### Donuts chart \n",
    "\n",
    "The previous chart can be represented as a donut by replacing the `type` parameter with `donut`."
   ]
  },
  {
   "cell_type": "code",
   "execution_count": null,
   "metadata": {},
   "outputs": [],
   "source": [
    "fig, ax = plt.subplots(figsize=(10, 4))\n",
    "\n",
    "fc = normClim.geetools.plot_by_bands(\n",
    "    type = \"donut\",\n",
    "    regions = ecoregions.filter(ee.Filter.eq(\"label\", \"Forest\")),\n",
    "    reducer = \"mean\",\n",
    "    scale = 500,\n",
    "    regionId = \"label\",\n",
    "    bands = ['01_ppt', '02_ppt', '03_ppt', '04_ppt', '05_ppt', '06_ppt', '07_ppt', '08_ppt', '09_ppt', '10_ppt', '11_ppt', '12_ppt'],\n",
    "    labels = [\"jan\", \"feb\", \"mar\", \"apr\", \"may\", \"jun\", \"jul\", \"aug\", \"sep\", \"oct\", \"nov\", \"dec\"],\n",
    "    colors = ['#604791', '#1d6b99', '#39a8a7', '#0f8755', '#76b349', '#f0af07', '#e37d05', '#cf513e', '#96356f', '#724173', '#9c4f97', '#696969'],\n",
    "    ax = ax\n",
    ")\n",
    "\n",
    "# once created the axes can be modified as needed using pure matplotlib functions\n",
    "ax.set_title(\"Average Monthly Precipitation in Forest\")\n",
    "plt.show()"
   ]
  },
  {
   "cell_type": "markdown",
   "metadata": {},
   "source": [
    "## histogram plot \n",
    "\n",
    "A histogram of pixel values within a region surrounding Salt Lake City, Utah, USA are displayed for three MODIS surface reflectance bands. The histogram is plotted as a line chart, where x-axis values are pixel values and y-axis values are the frequency of pixels with the respective value."
   ]
  },
  {
   "cell_type": "code",
   "execution_count": null,
   "metadata": {},
   "outputs": [],
   "source": [
    "# custom image for this specific chart\n",
    "modisSr = (\n",
    "    ee.ImageCollection(\"MODIS/061/MOD09A1\")\n",
    "    .filter(ee.Filter.date(\"2018-06-01\", \"2018-09-01\"))\n",
    "    .select([\"sur_refl_b01\", \"sur_refl_b02\", \"sur_refl_b06\"])\n",
    "    .mean()\n",
    ")\n",
    "histRegion = ee.Geometry.Rectangle([-112.60, 40.60, -111.18, 41.22])"
   ]
  },
  {
   "cell_type": "code",
   "execution_count": null,
   "metadata": {},
   "outputs": [],
   "source": [
    "fig, ax = plt.subplots(figsize=(10, 4))\n",
    "\n",
    "# initialize the plot with the ecoregions data\n",
    "modisSr.geetools.plot_hist(\n",
    "    bands = [\"sur_refl_b01\", \"sur_refl_b02\", \"sur_refl_b06\"],\n",
    "    labels = [['Red', 'NIR', 'SWIR']],\n",
    "    colors = [\"#cf513e\", \"#1d6b99\", \"#f0af07\"],\n",
    "    ax = ax,\n",
    "    bins = 100,\n",
    "    scale = 500,\n",
    "    region = histRegion,\n",
    ")\n",
    "\n",
    "# once created the axes can be modified as needed using pure matplotlib functions\n",
    "ax.set_title(\"Modis SR Reflectance Histogram\")\n",
    "ax.set_xlabel(\"Reflectance (x1e4)\")\n",
    "plt.show()"
   ]
  }
 ],
 "metadata": {
  "kernelspec": {
   "display_name": "geetools",
   "language": "python",
   "name": "python3"
  },
  "language_info": {
   "codemirror_mode": {
    "name": "ipython",
    "version": 3
   },
   "file_extension": ".py",
   "mimetype": "text/x-python",
   "name": "python",
   "nbconvert_exporter": "python",
   "pygments_lexer": "ipython3",
   "version": "3.11.9"
  }
 },
 "nbformat": 4,
 "nbformat_minor": 2
}
