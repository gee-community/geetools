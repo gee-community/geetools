{
 "cells": [
  {
   "cell_type": "markdown",
   "metadata": {},
   "source": [
    "# Map FeatureCollection\n",
    "\n",
    "The `geetools` extension contains a set of functions for rendering maps from `ee.FeatureCollection` objects. Use the following function descriptions and examples to determine the best function and chart type for your purpose."
   ]
  },
  {
   "cell_type": "code",
   "execution_count": null,
   "metadata": {
    "tags": [
     "remove-cell"
    ]
   },
   "outputs": [],
   "source": [
    "import ee, geetools, os, re, httplib2\n",
    "\n",
    "if \"EARTHENGINE_SERVICE_ACCOUNT\" in os.environ:\n",
    "    private_key = os.environ[\"EARTHENGINE_SERVICE_ACCOUNT\"]\n",
    "    private_key = private_key[1:-1] if re.compile(r\"^'[^']*'$\").match(private_key) else private_key\n",
    "    ee.Initialize.geetools.from_service_account(private_key)\n",
    "\n",
    "elif \"EARTHENGINE_PROJECT\" in os.environ:\n",
    "    ee.Initialize(project=os.environ[\"EARTHENGINE_PROJECT\"], http_transport=httplib2.Http())\n",
    "\n",
    "else:\n",
    "    raise ValueError(\"EARTHENGINE_SERVICE_ACCOUNT or EARTHENGINE_PROJECT environment variable is missing\")"
   ]
  },
  {
   "cell_type": "markdown",
   "metadata": {},
   "source": [
    "[![github](https://img.shields.io/badge/-see%20sources-white?logo=github&labelColor=555)](https://github.com/gee-community/geetools/blob/main/docs/usage/plot/map-featurecollection.ipynb)\n",
    "[![colab](https://img.shields.io/badge/-open%20in%20colab-blue?logo=googlecolab&labelColor=555)](https://colab.research.google.com/github/gee-community/geetools/blob/main/docs/usage/plot/map-featurecollection.ipynb)"
   ]
  },
  {
   "cell_type": "markdown",
   "metadata": {},
   "source": [
    "## Set up environment\n",
    "\n",
    "Install all the required packages and perform the import statement upstream."
   ]
  },
  {
   "cell_type": "code",
   "execution_count": null,
   "metadata": {},
   "outputs": [],
   "source": [
    "# uncomment if installation of libs is necessary\n",
    "# !pip install earthengine-api geetools"
   ]
  },
  {
   "cell_type": "code",
   "execution_count": null,
   "metadata": {},
   "outputs": [],
   "source": [
    "from IPython.display import display\n",
    "from matplotlib import pyplot as plt\n",
    "\n",
    "import ee\n",
    "import geetools #noqa: F401"
   ]
  },
  {
   "cell_type": "code",
   "execution_count": null,
   "metadata": {},
   "outputs": [],
   "source": [
    "# uncomment if authetication to GEE is needed\n",
    "# ee.Authenticate()\n",
    "# ee.Intialize(project=\"<your_project>\")"
   ]
  },
  {
   "cell_type": "markdown",
   "metadata": {},
   "source": [
    "## Example data \n",
    "\n",
    "The following examples rely on a `ee.FeatureCollection` composed of all the hydroshed bassins from south america."
   ]
  },
  {
   "cell_type": "code",
   "execution_count": null,
   "metadata": {},
   "outputs": [],
   "source": [
    "region = ee.Geometry.BBox(-80, -60, -20, 20);\n",
    "fc = ee.FeatureCollection('WWF/HydroATLAS/v1/Basins/level04').filterBounds(region)"
   ]
  },
  {
   "cell_type": "markdown",
   "metadata": {},
   "source": [
    "## Map Vector\n",
    "\n",
    "```{api}\n",
    "{docstring}`ee.FeatureCollection.geetools.plot`\n",
    "```\n",
    "\n",
    "An `ee.FeatureCollection` is a vector representation of geographical properties. A user can be interested by either the property evolution across the landscape or the geometries associated with it. The {py:meth}`plot <geetools.FeatureCollection.FeatureCollectionAccessor.plot>` is coverinig both use cases. \n",
    "\n",
    "### Map a property\n",
    "\n",
    "A single property can be ploted on a map using matplotlib. The following example is showing the bassin area in km².\n",
    "\n",
    "First create a matplotlib figure and axis, then you can add the bassins to the map using the `plot` method. By default it will display the first property of the features. In our case we will opt to display the area of the bassins in km² i.e. the \"UP_AREA\" property. Finally that we have the plot, we can customize it with matplotlib. For example, we can add a title and a colorbar."
   ]
  },
  {
   "cell_type": "code",
   "execution_count": null,
   "metadata": {},
   "outputs": [],
   "source": [
    "# create the plot\n",
    "fig, ax = plt.subplots(figsize=(10, 10))\n",
    "\n",
    "# generate the graph\n",
    "fc.geetools.plot(ax=ax, property=\"UP_AREA\", cmap=\"viridis\")\n",
    "\n",
    "# you can then customize the figure as you would for any other matplotlib object\n",
    "fig.colorbar(ax.collections[0], label=\"Upstream area (km²)\")\n",
    "ax.set_title(\"HydroATLAS basins of level4\")\n",
    "ax.set_xlabel(\"Longitude (°)\")\n",
    "ax.set_ylabel(\"Latitude (°)\")\n",
    "\n",
    "plt.show()"
   ]
  },
  {
   "cell_type": "markdown",
   "metadata": {},
   "source": [
    "### Map geometries\n",
    "\n",
    "Alternatively if you only want to plot the geometries of the featurecollection on a map, you can use the `plot` method with the `boundares` parameter set to `True`.\n",
    "\n",
    "Similarly to the previous example we start by creating a pyplot figure and axis, then you can start plotting the geometries and finally customize the plot."
   ]
  },
  {
   "cell_type": "code",
   "execution_count": null,
   "metadata": {},
   "outputs": [],
   "source": [
    "plt.ioff() # remove interactive for the sake of the example\n",
    "fig, ax = plt.subplots(figsize=(10, 10))\n",
    "\n",
    "# create the graph\n",
    "fc.geetools.plot(ax=ax, boundaries=True)\n",
    "\n",
    "# you can then customize the figure as you would for any other matplotlib object\n",
    "ax.set_title(\"Borders of the HydroATLAS basins of level4\")\n",
    "ax.set_xlabel(\"Longitude (°)\")\n",
    "ax.set_ylabel(\"Latitude (°)\")\n",
    "\n",
    "plt.show()"
   ]
  },
  {
   "cell_type": "code",
   "execution_count": null,
   "metadata": {},
   "outputs": [],
   "source": []
  }
 ],
 "metadata": {
  "kernelspec": {
   "display_name": "geetools",
   "language": "python",
   "name": "python3"
  },
  "language_info": {
   "codemirror_mode": {
    "name": "ipython",
    "version": 3
   },
   "file_extension": ".py",
   "mimetype": "text/x-python",
   "name": "python",
   "nbconvert_exporter": "python",
   "pygments_lexer": "ipython3",
   "version": "3.11.9"
  }
 },
 "nbformat": 4,
 "nbformat_minor": 2
}
