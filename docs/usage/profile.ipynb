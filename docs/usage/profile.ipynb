{
 "cells": [
  {
   "cell_type": "markdown",
   "metadata": {},
   "source": [
    "# Profile Earth Engine computation\n",
    "\n",
    "The Earth Engine API provides tools for profiling the performance of your computations but they are not always the easiest to use to get the number you are looking for. The `geetools` library supercharge the original profiler to make any computation evaluation the easiest possible."
   ]
  },
  {
   "cell_type": "code",
   "execution_count": null,
   "metadata": {
    "tags": [
     "remove-cell"
    ]
   },
   "outputs": [],
   "source": [
    "import ee, geetools, os, re, httplib2\n",
    "\n",
    "if \"EARTHENGINE_SERVICE_ACCOUNT\" in os.environ:\n",
    "    private_key = os.environ[\"EARTHENGINE_SERVICE_ACCOUNT\"]\n",
    "    private_key = private_key[1:-1] if re.compile(r\"^'[^']*'$\").match(private_key) else private_key\n",
    "    ee.Initialize.geetools.from_service_account(private_key)\n",
    "\n",
    "elif \"EARTHENGINE_PROJECT\" in os.environ:\n",
    "    ee.Initialize(project=os.environ[\"EARTHENGINE_PROJECT\"], http_transport=httplib2.Http())\n",
    "\n",
    "else:\n",
    "    raise ValueError(\"EARTHENGINE_SERVICE_ACCOUNT or EARTHENGINE_PROJECT environment variable is missing\")"
   ]
  },
  {
   "cell_type": "markdown",
   "metadata": {},
   "source": [
    "[![github](https://img.shields.io/badge/-see%20sources-white?logo=github&labelColor=555)](https://github.com/gee-community/geetools/blob/main/docs/usage/profile.ipynb)\n",
    "[![colab](https://img.shields.io/badge/-open%20in%20colab-blue?logo=googlecolab&labelColor=555)](https://colab.research.google.com/github/gee-community/geetools/blob/main/docs/usage/profile.ipynb)"
   ]
  },
  {
   "cell_type": "markdown",
   "metadata": {},
   "source": [
    "## Set up environment\n",
    "\n",
    "Install all the requireed libs if necessary. and perform the import satements upstream."
   ]
  },
  {
   "cell_type": "code",
   "execution_count": null,
   "metadata": {},
   "outputs": [],
   "source": [
    "# uncomment if installation of libs is necessary\n",
    "# !pip install earthengine-api geetools"
   ]
  },
  {
   "cell_type": "code",
   "execution_count": null,
   "metadata": {},
   "outputs": [],
   "source": [
    "import ee\n",
    "import geetools\n",
    "import pandas as pd"
   ]
  },
  {
   "cell_type": "code",
   "execution_count": null,
   "metadata": {},
   "outputs": [],
   "source": [
    "# uncomment if authetication to GEE is needed\n",
    "# ee.Authenticate()\n",
    "# ee.Intialize(project=\"<your_project>\")"
   ]
  },
  {
   "cell_type": "markdown",
   "metadata": {},
   "source": [
    "## Example data\n",
    "\n",
    "The following examples rely on a `ee.FeatureCollection` composed of three ecoregion features that define regions by which to reduce image data. The Image data are PRISM climate normals, where bands describe climate variables per month; e.g., July precipitation or January mean temperature.\n"
   ]
  },
  {
   "cell_type": "code",
   "execution_count": null,
   "metadata": {},
   "outputs": [],
   "source": [
    "ecoregions = (\n",
    "    ee.FeatureCollection(\"projects/google/charts_feature_example\")\n",
    "    .select([\"label\", \"value\",\"warm\"])\n",
    ")\n",
    "\n",
    "normClim = ee.ImageCollection('OREGONSTATE/PRISM/Norm91m').toBands()"
   ]
  },
  {
   "cell_type": "markdown",
   "metadata": {},
   "source": [
    "## default profiler \n",
    "\n",
    "The default profiler from Earth Engine can be called as a context manager, it will print at the end of the cell the extensive description of your computation. "
   ]
  },
  {
   "cell_type": "code",
   "execution_count": null,
   "metadata": {},
   "outputs": [],
   "source": [
    "with ee.profilePrinting():\n",
    "    normClim.geetools.byBands(\n",
    "        regions = ecoregions,\n",
    "        reducer = \"mean\",\n",
    "        scale = 500,\n",
    "        regionId = \"label\",\n",
    "        bands = [f\"{i:02d}_tmean\" for i in range(1,13)],\n",
    "    ).getInfo()"
   ]
  },
  {
   "cell_type": "markdown",
   "metadata": {},
   "source": [
    "This result is extremely useful but cannot be further explored in the notebook."
   ]
  },
  {
   "cell_type": "markdown",
   "metadata": {},
   "source": [
    "## geetools profiler\n",
    "\n",
    "The `geetools` profiler is a context manager object that fill a dictionary member (`profile`) with the content of the string profile. This dictionary can be transformed into a table easily."
   ]
  },
  {
   "cell_type": "code",
   "execution_count": null,
   "metadata": {},
   "outputs": [],
   "source": [
    "# example with a simple function\n",
    "with ee.geetools.Profiler() as p:\n",
    "    ee.Number(3.14).add(0.00159).getInfo()\n",
    "p.profile"
   ]
  },
  {
   "cell_type": "markdown",
   "metadata": {},
   "source": [
    "With a bigger method we can valorized the results as a pandas dataframe and extract key informations."
   ]
  },
  {
   "cell_type": "code",
   "execution_count": null,
   "metadata": {},
   "outputs": [],
   "source": [
    "with ee.geetools.Profiler() as p:\n",
    "    normClim.geetools.byBands(\n",
    "        regions = ecoregions,\n",
    "        reducer = \"mean\",\n",
    "        scale = 500,\n",
    "        regionId = \"label\",\n",
    "        bands = [f\"{i:02d}_tmean\" for i in range(1,13)],\n",
    "    ).getInfo()\n",
    "df = pd.DataFrame(p.profile)\n",
    "df.head()"
   ]
  },
  {
   "cell_type": "code",
   "execution_count": null,
   "metadata": {},
   "outputs": [],
   "source": [
    "# total EECU cost of the computation\n",
    "float(df[\"EECU-s\"].sum())"
   ]
  },
  {
   "cell_type": "code",
   "execution_count": null,
   "metadata": {},
   "outputs": [],
   "source": []
  }
 ],
 "metadata": {
  "kernelspec": {
   "display_name": "geetools",
   "language": "python",
   "name": "python3"
  },
  "language_info": {
   "codemirror_mode": {
    "name": "ipython",
    "version": 3
   },
   "file_extension": ".py",
   "mimetype": "text/x-python",
   "name": "python",
   "nbconvert_exporter": "python",
   "pygments_lexer": "ipython3",
   "version": "3.11.9"
  }
 },
 "nbformat": 4,
 "nbformat_minor": 2
}
